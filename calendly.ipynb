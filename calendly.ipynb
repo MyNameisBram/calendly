{
 "cells": [
  {
   "cell_type": "markdown",
   "metadata": {},
   "source": [
    "# Importing our Data \n"
   ]
  },
  {
   "cell_type": "code",
   "execution_count": 1,
   "metadata": {},
   "outputs": [],
   "source": [
    "import sqlite3\n",
    "import pandas as pd \n",
    "import numpy as np\n",
    "import pandas_profiling\n",
    "import matplotlib.pyplot as plt \n",
    "%matplotlib inline \n"
   ]
  },
  {
   "cell_type": "code",
   "execution_count": 2,
   "metadata": {},
   "outputs": [],
   "source": [
    "#connecting to database \n",
    "conn = sqlite3.connect('calendly_data_test.db')\n",
    "c = conn.cursor()"
   ]
  },
  {
   "cell_type": "code",
   "execution_count": 3,
   "metadata": {},
   "outputs": [],
   "source": [
    "#list of all tables \n",
    "tables = c.execute(\"SELECT name FROM sqlite_master WHERE type='table';\").fetchall()\n",
    "tables = [i[0] for i in tables]"
   ]
  },
  {
   "cell_type": "code",
   "execution_count": 4,
   "metadata": {},
   "outputs": [
    {
     "data": {
      "text/plain": [
       "['users', 'event_types', 'calendar_types', 'events']"
      ]
     },
     "execution_count": 4,
     "metadata": {},
     "output_type": "execute_result"
    }
   ],
   "source": [
    "tables"
   ]
  },
  {
   "cell_type": "code",
   "execution_count": 5,
   "metadata": {},
   "outputs": [],
   "source": [
    "dfs = []\n",
    "for i in tables:\n",
    "    table = c.execute('SELECT * FROM \"'+i+'\"').fetchall()\n",
    "    columns = c.execute('PRAGMA table_info(\"'+i+'\")').fetchall()\n",
    "    df = pd.DataFrame(table, columns=[i[1] for i in columns])\n",
    "    \n",
    "    #make a string into variable name\n",
    "    foo = i+\"_df\"\n",
    "    exec(foo + \" = df\") # => TableName_df\n",
    "    #keep all dataframe names in the list to remember what we have\n",
    "    dfs.append(foo)"
   ]
  },
  {
   "cell_type": "code",
   "execution_count": 6,
   "metadata": {},
   "outputs": [
    {
     "data": {
      "text/plain": [
       "['users_df', 'event_types_df', 'calendar_types_df', 'events_df']"
      ]
     },
     "execution_count": 6,
     "metadata": {},
     "output_type": "execute_result"
    }
   ],
   "source": [
    "dfs"
   ]
  },
  {
   "cell_type": "code",
   "execution_count": 7,
   "metadata": {},
   "outputs": [
    {
     "data": {
      "text/html": [
       "<div>\n",
       "<style scoped>\n",
       "    .dataframe tbody tr th:only-of-type {\n",
       "        vertical-align: middle;\n",
       "    }\n",
       "\n",
       "    .dataframe tbody tr th {\n",
       "        vertical-align: top;\n",
       "    }\n",
       "\n",
       "    .dataframe thead th {\n",
       "        text-align: right;\n",
       "    }\n",
       "</style>\n",
       "<table border=\"1\" class=\"dataframe\">\n",
       "  <thead>\n",
       "    <tr style=\"text-align: right;\">\n",
       "      <th></th>\n",
       "      <th>index</th>\n",
       "      <th>id</th>\n",
       "      <th>created_at</th>\n",
       "      <th>confirmed_at</th>\n",
       "      <th>company_role</th>\n",
       "      <th>referees_count</th>\n",
       "      <th>country_code</th>\n",
       "    </tr>\n",
       "  </thead>\n",
       "  <tbody>\n",
       "    <tr>\n",
       "      <th>0</th>\n",
       "      <td>0</td>\n",
       "      <td>4256788</td>\n",
       "      <td>2019-01-01 01:56:23.466000</td>\n",
       "      <td>2019-01-01 01:56:33.251000</td>\n",
       "      <td>executive</td>\n",
       "      <td>0</td>\n",
       "      <td>US</td>\n",
       "    </tr>\n",
       "    <tr>\n",
       "      <th>1</th>\n",
       "      <td>1</td>\n",
       "      <td>4257052</td>\n",
       "      <td>2019-01-01 06:35:49.932000</td>\n",
       "      <td>2019-01-01 06:35:49.926000</td>\n",
       "      <td>executive</td>\n",
       "      <td>0</td>\n",
       "      <td>IN</td>\n",
       "    </tr>\n",
       "    <tr>\n",
       "      <th>2</th>\n",
       "      <td>2</td>\n",
       "      <td>4257200</td>\n",
       "      <td>2019-01-01 09:24:25.285000</td>\n",
       "      <td>2019-01-01 09:24:25.282000</td>\n",
       "      <td>executive</td>\n",
       "      <td>0</td>\n",
       "      <td>VN</td>\n",
       "    </tr>\n",
       "    <tr>\n",
       "      <th>3</th>\n",
       "      <td>3</td>\n",
       "      <td>4257314</td>\n",
       "      <td>2019-01-01 11:43:29.084000</td>\n",
       "      <td>2019-01-01 11:43:29.079000</td>\n",
       "      <td>sales_marketing</td>\n",
       "      <td>0</td>\n",
       "      <td>BR</td>\n",
       "    </tr>\n",
       "    <tr>\n",
       "      <th>4</th>\n",
       "      <td>4</td>\n",
       "      <td>4257666</td>\n",
       "      <td>2019-01-01 15:59:24.760000</td>\n",
       "      <td>2019-01-01 16:01:50.487000</td>\n",
       "      <td>other</td>\n",
       "      <td>0</td>\n",
       "      <td>US</td>\n",
       "    </tr>\n",
       "  </tbody>\n",
       "</table>\n",
       "</div>"
      ],
      "text/plain": [
       "   index       id                  created_at                confirmed_at  \\\n",
       "0      0  4256788  2019-01-01 01:56:23.466000  2019-01-01 01:56:33.251000   \n",
       "1      1  4257052  2019-01-01 06:35:49.932000  2019-01-01 06:35:49.926000   \n",
       "2      2  4257200  2019-01-01 09:24:25.285000  2019-01-01 09:24:25.282000   \n",
       "3      3  4257314  2019-01-01 11:43:29.084000  2019-01-01 11:43:29.079000   \n",
       "4      4  4257666  2019-01-01 15:59:24.760000  2019-01-01 16:01:50.487000   \n",
       "\n",
       "      company_role  referees_count country_code  \n",
       "0        executive               0           US  \n",
       "1        executive               0           IN  \n",
       "2        executive               0           VN  \n",
       "3  sales_marketing               0           BR  \n",
       "4            other               0           US  "
      ]
     },
     "execution_count": 7,
     "metadata": {},
     "output_type": "execute_result"
    }
   ],
   "source": [
    "users_df.head()"
   ]
  },
  {
   "cell_type": "code",
   "execution_count": 8,
   "metadata": {},
   "outputs": [
    {
     "data": {
      "text/html": [
       "<div>\n",
       "<style scoped>\n",
       "    .dataframe tbody tr th:only-of-type {\n",
       "        vertical-align: middle;\n",
       "    }\n",
       "\n",
       "    .dataframe tbody tr th {\n",
       "        vertical-align: top;\n",
       "    }\n",
       "\n",
       "    .dataframe thead th {\n",
       "        text-align: right;\n",
       "    }\n",
       "</style>\n",
       "<table border=\"1\" class=\"dataframe\">\n",
       "  <thead>\n",
       "    <tr style=\"text-align: right;\">\n",
       "      <th></th>\n",
       "      <th>index</th>\n",
       "      <th>user_id</th>\n",
       "      <th>organization_id</th>\n",
       "      <th>description</th>\n",
       "      <th>kind</th>\n",
       "      <th>max_booking_time</th>\n",
       "      <th>notification_type</th>\n",
       "    </tr>\n",
       "  </thead>\n",
       "  <tbody>\n",
       "    <tr>\n",
       "      <th>0</th>\n",
       "      <td>0</td>\n",
       "      <td>4256842</td>\n",
       "      <td>None</td>\n",
       "      <td>None</td>\n",
       "      <td>solo</td>\n",
       "      <td>86400.0</td>\n",
       "      <td>calendar</td>\n",
       "    </tr>\n",
       "    <tr>\n",
       "      <th>1</th>\n",
       "      <td>1</td>\n",
       "      <td>4257060</td>\n",
       "      <td>None</td>\n",
       "      <td>None</td>\n",
       "      <td>solo</td>\n",
       "      <td>86400.0</td>\n",
       "      <td>calendar</td>\n",
       "    </tr>\n",
       "    <tr>\n",
       "      <th>2</th>\n",
       "      <td>2</td>\n",
       "      <td>4257108</td>\n",
       "      <td>None</td>\n",
       "      <td>None</td>\n",
       "      <td>solo</td>\n",
       "      <td>86400.0</td>\n",
       "      <td>calendar</td>\n",
       "    </tr>\n",
       "    <tr>\n",
       "      <th>3</th>\n",
       "      <td>3</td>\n",
       "      <td>4257154</td>\n",
       "      <td>None</td>\n",
       "      <td>None</td>\n",
       "      <td>solo</td>\n",
       "      <td>86400.0</td>\n",
       "      <td>calendar</td>\n",
       "    </tr>\n",
       "    <tr>\n",
       "      <th>4</th>\n",
       "      <td>4</td>\n",
       "      <td>4257236</td>\n",
       "      <td>None</td>\n",
       "      <td>None</td>\n",
       "      <td>solo</td>\n",
       "      <td>86400.0</td>\n",
       "      <td>calendar</td>\n",
       "    </tr>\n",
       "  </tbody>\n",
       "</table>\n",
       "</div>"
      ],
      "text/plain": [
       "   index  user_id organization_id description  kind  max_booking_time  \\\n",
       "0      0  4256842            None        None  solo           86400.0   \n",
       "1      1  4257060            None        None  solo           86400.0   \n",
       "2      2  4257108            None        None  solo           86400.0   \n",
       "3      3  4257154            None        None  solo           86400.0   \n",
       "4      4  4257236            None        None  solo           86400.0   \n",
       "\n",
       "  notification_type  \n",
       "0          calendar  \n",
       "1          calendar  \n",
       "2          calendar  \n",
       "3          calendar  \n",
       "4          calendar  "
      ]
     },
     "execution_count": 8,
     "metadata": {},
     "output_type": "execute_result"
    }
   ],
   "source": [
    "event_types_df.head()"
   ]
  },
  {
   "cell_type": "code",
   "execution_count": 9,
   "metadata": {},
   "outputs": [
    {
     "data": {
      "text/html": [
       "<div>\n",
       "<style scoped>\n",
       "    .dataframe tbody tr th:only-of-type {\n",
       "        vertical-align: middle;\n",
       "    }\n",
       "\n",
       "    .dataframe tbody tr th {\n",
       "        vertical-align: top;\n",
       "    }\n",
       "\n",
       "    .dataframe thead th {\n",
       "        text-align: right;\n",
       "    }\n",
       "</style>\n",
       "<table border=\"1\" class=\"dataframe\">\n",
       "  <thead>\n",
       "    <tr style=\"text-align: right;\">\n",
       "      <th></th>\n",
       "      <th>index</th>\n",
       "      <th>user_id</th>\n",
       "      <th>created_at</th>\n",
       "      <th>calendar_type</th>\n",
       "    </tr>\n",
       "  </thead>\n",
       "  <tbody>\n",
       "    <tr>\n",
       "      <th>0</th>\n",
       "      <td>0</td>\n",
       "      <td>4886704</td>\n",
       "      <td>2019-03-18 14:45:50.670000</td>\n",
       "      <td>outlook</td>\n",
       "    </tr>\n",
       "    <tr>\n",
       "      <th>1</th>\n",
       "      <td>1</td>\n",
       "      <td>5554602</td>\n",
       "      <td>2019-05-20 09:32:24.536000</td>\n",
       "      <td>outlook</td>\n",
       "    </tr>\n",
       "    <tr>\n",
       "      <th>2</th>\n",
       "      <td>2</td>\n",
       "      <td>4470228</td>\n",
       "      <td>2019-01-28 17:00:19.396000</td>\n",
       "      <td>outlook</td>\n",
       "    </tr>\n",
       "    <tr>\n",
       "      <th>3</th>\n",
       "      <td>3</td>\n",
       "      <td>4650574</td>\n",
       "      <td>2019-02-18 17:24:44.059000</td>\n",
       "      <td>google</td>\n",
       "    </tr>\n",
       "    <tr>\n",
       "      <th>4</th>\n",
       "      <td>4</td>\n",
       "      <td>4527860</td>\n",
       "      <td>2019-02-04 13:06:44.909000</td>\n",
       "      <td>google</td>\n",
       "    </tr>\n",
       "  </tbody>\n",
       "</table>\n",
       "</div>"
      ],
      "text/plain": [
       "   index  user_id                  created_at calendar_type\n",
       "0      0  4886704  2019-03-18 14:45:50.670000       outlook\n",
       "1      1  5554602  2019-05-20 09:32:24.536000       outlook\n",
       "2      2  4470228  2019-01-28 17:00:19.396000       outlook\n",
       "3      3  4650574  2019-02-18 17:24:44.059000        google\n",
       "4      4  4527860  2019-02-04 13:06:44.909000        google"
      ]
     },
     "execution_count": 9,
     "metadata": {},
     "output_type": "execute_result"
    }
   ],
   "source": [
    "calendar_types_df.head()"
   ]
  },
  {
   "cell_type": "code",
   "execution_count": 10,
   "metadata": {},
   "outputs": [
    {
     "data": {
      "text/html": [
       "<div>\n",
       "<style scoped>\n",
       "    .dataframe tbody tr th:only-of-type {\n",
       "        vertical-align: middle;\n",
       "    }\n",
       "\n",
       "    .dataframe tbody tr th {\n",
       "        vertical-align: top;\n",
       "    }\n",
       "\n",
       "    .dataframe thead th {\n",
       "        text-align: right;\n",
       "    }\n",
       "</style>\n",
       "<table border=\"1\" class=\"dataframe\">\n",
       "  <thead>\n",
       "    <tr style=\"text-align: right;\">\n",
       "      <th></th>\n",
       "      <th>index</th>\n",
       "      <th>id</th>\n",
       "      <th>user_id</th>\n",
       "      <th>cancelled</th>\n",
       "      <th>organization_id</th>\n",
       "      <th>created_at</th>\n",
       "    </tr>\n",
       "  </thead>\n",
       "  <tbody>\n",
       "    <tr>\n",
       "      <th>0</th>\n",
       "      <td>0</td>\n",
       "      <td>87286910</td>\n",
       "      <td>4257474</td>\n",
       "      <td>0</td>\n",
       "      <td>6391995</td>\n",
       "      <td>2019-01-01 14:57:38.571000</td>\n",
       "    </tr>\n",
       "    <tr>\n",
       "      <th>1</th>\n",
       "      <td>1</td>\n",
       "      <td>87580836</td>\n",
       "      <td>4258380</td>\n",
       "      <td>0</td>\n",
       "      <td>6393354</td>\n",
       "      <td>2019-01-03 11:48:26.548000</td>\n",
       "    </tr>\n",
       "    <tr>\n",
       "      <th>2</th>\n",
       "      <td>2</td>\n",
       "      <td>87750928</td>\n",
       "      <td>4257044</td>\n",
       "      <td>0</td>\n",
       "      <td>6391350</td>\n",
       "      <td>2019-01-03 23:37:04.896000</td>\n",
       "    </tr>\n",
       "    <tr>\n",
       "      <th>3</th>\n",
       "      <td>3</td>\n",
       "      <td>88162942</td>\n",
       "      <td>4291770</td>\n",
       "      <td>0</td>\n",
       "      <td>6443514</td>\n",
       "      <td>2019-01-07 12:19:16.062000</td>\n",
       "    </tr>\n",
       "    <tr>\n",
       "      <th>4</th>\n",
       "      <td>4</td>\n",
       "      <td>87318462</td>\n",
       "      <td>4258636</td>\n",
       "      <td>1</td>\n",
       "      <td>6393738</td>\n",
       "      <td>2019-01-02 00:23:05.045000</td>\n",
       "    </tr>\n",
       "  </tbody>\n",
       "</table>\n",
       "</div>"
      ],
      "text/plain": [
       "   index        id  user_id  cancelled  organization_id  \\\n",
       "0      0  87286910  4257474          0          6391995   \n",
       "1      1  87580836  4258380          0          6393354   \n",
       "2      2  87750928  4257044          0          6391350   \n",
       "3      3  88162942  4291770          0          6443514   \n",
       "4      4  87318462  4258636          1          6393738   \n",
       "\n",
       "                   created_at  \n",
       "0  2019-01-01 14:57:38.571000  \n",
       "1  2019-01-03 11:48:26.548000  \n",
       "2  2019-01-03 23:37:04.896000  \n",
       "3  2019-01-07 12:19:16.062000  \n",
       "4  2019-01-02 00:23:05.045000  "
      ]
     },
     "execution_count": 10,
     "metadata": {},
     "output_type": "execute_result"
    }
   ],
   "source": [
    "events_df.head()"
   ]
  },
  {
   "cell_type": "markdown",
   "metadata": {},
   "source": [
    "# EDA"
   ]
  },
  {
   "cell_type": "markdown",
   "metadata": {},
   "source": [
    "\n",
    "### `user_id` Breakdown by Tables:\n",
    "\n",
    "- `users_df`: consists of 107,983 unique `id`\n",
    "- `calendar_types_df`: consists of 65,464 unique `user_id`\n",
    "- `events_df`: consists of 7,896 unique `user_id`\n",
    "\n",
    "\n",
    "This tell us that there are registered users who are not active and users that do not have a calendar. "
   ]
  },
  {
   "cell_type": "markdown",
   "metadata": {},
   "source": [
    "# Data Navigation \n",
    "---"
   ]
  },
  {
   "cell_type": "markdown",
   "metadata": {},
   "source": [
    "## Question: How many events have been scheduled in 2019? \n"
   ]
  },
  {
   "cell_type": "code",
   "execution_count": 11,
   "metadata": {},
   "outputs": [
    {
     "name": "stdout",
     "output_type": "stream",
     "text": [
      "<class 'pandas.core.frame.DataFrame'>\n",
      "RangeIndex: 115846 entries, 0 to 115845\n",
      "Data columns (total 6 columns):\n",
      "index              115846 non-null int64\n",
      "id                 115846 non-null int64\n",
      "user_id            115846 non-null int64\n",
      "cancelled          115846 non-null int64\n",
      "organization_id    115846 non-null int64\n",
      "created_at         115846 non-null object\n",
      "dtypes: int64(5), object(1)\n",
      "memory usage: 5.3+ MB\n"
     ]
    }
   ],
   "source": [
    "events_df.info()"
   ]
  },
  {
   "cell_type": "code",
   "execution_count": 12,
   "metadata": {},
   "outputs": [
    {
     "data": {
      "text/html": [
       "<div>\n",
       "<style scoped>\n",
       "    .dataframe tbody tr th:only-of-type {\n",
       "        vertical-align: middle;\n",
       "    }\n",
       "\n",
       "    .dataframe tbody tr th {\n",
       "        vertical-align: top;\n",
       "    }\n",
       "\n",
       "    .dataframe thead th {\n",
       "        text-align: right;\n",
       "    }\n",
       "</style>\n",
       "<table border=\"1\" class=\"dataframe\">\n",
       "  <thead>\n",
       "    <tr style=\"text-align: right;\">\n",
       "      <th></th>\n",
       "      <th>index</th>\n",
       "      <th>id</th>\n",
       "      <th>user_id</th>\n",
       "      <th>cancelled</th>\n",
       "      <th>organization_id</th>\n",
       "      <th>created_at</th>\n",
       "    </tr>\n",
       "  </thead>\n",
       "  <tbody>\n",
       "    <tr>\n",
       "      <th>115841</th>\n",
       "      <td>115841</td>\n",
       "      <td>125807942</td>\n",
       "      <td>4258640</td>\n",
       "      <td>1</td>\n",
       "      <td>6393744</td>\n",
       "      <td>2019-06-26 14:24:10.734000</td>\n",
       "    </tr>\n",
       "    <tr>\n",
       "      <th>115842</th>\n",
       "      <td>115842</td>\n",
       "      <td>126720790</td>\n",
       "      <td>6067406</td>\n",
       "      <td>0</td>\n",
       "      <td>9110262</td>\n",
       "      <td>2019-07-01 13:07:34.778000</td>\n",
       "    </tr>\n",
       "    <tr>\n",
       "      <th>115843</th>\n",
       "      <td>115843</td>\n",
       "      <td>126793062</td>\n",
       "      <td>5465522</td>\n",
       "      <td>0</td>\n",
       "      <td>8206584</td>\n",
       "      <td>2019-07-01 16:35:11.984000</td>\n",
       "    </tr>\n",
       "    <tr>\n",
       "      <th>115844</th>\n",
       "      <td>115844</td>\n",
       "      <td>126837436</td>\n",
       "      <td>5889948</td>\n",
       "      <td>0</td>\n",
       "      <td>8843811</td>\n",
       "      <td>2019-07-01 18:32:06.755000</td>\n",
       "    </tr>\n",
       "    <tr>\n",
       "      <th>115845</th>\n",
       "      <td>115845</td>\n",
       "      <td>126844606</td>\n",
       "      <td>4769198</td>\n",
       "      <td>0</td>\n",
       "      <td>7160853</td>\n",
       "      <td>2019-07-01 18:51:34.178000</td>\n",
       "    </tr>\n",
       "  </tbody>\n",
       "</table>\n",
       "</div>"
      ],
      "text/plain": [
       "         index         id  user_id  cancelled  organization_id  \\\n",
       "115841  115841  125807942  4258640          1          6393744   \n",
       "115842  115842  126720790  6067406          0          9110262   \n",
       "115843  115843  126793062  5465522          0          8206584   \n",
       "115844  115844  126837436  5889948          0          8843811   \n",
       "115845  115845  126844606  4769198          0          7160853   \n",
       "\n",
       "                        created_at  \n",
       "115841  2019-06-26 14:24:10.734000  \n",
       "115842  2019-07-01 13:07:34.778000  \n",
       "115843  2019-07-01 16:35:11.984000  \n",
       "115844  2019-07-01 18:32:06.755000  \n",
       "115845  2019-07-01 18:51:34.178000  "
      ]
     },
     "execution_count": 12,
     "metadata": {},
     "output_type": "execute_result"
    }
   ],
   "source": [
    "events_df.tail()"
   ]
  },
  {
   "cell_type": "code",
   "execution_count": 13,
   "metadata": {},
   "outputs": [
    {
     "name": "stdout",
     "output_type": "stream",
     "text": [
      "115846\n"
     ]
    }
   ],
   "source": [
    "print(len(events_df[events_df.created_at.str.contains(\"2019\")]))"
   ]
  },
  {
   "cell_type": "code",
   "execution_count": 25,
   "metadata": {},
   "outputs": [],
   "source": [
    "from datetime import datetime \n",
    "\n",
    "#creating function to convert to datetime \n",
    "def date_time(x):\n",
    "    d = datetime.strptime(x, '%Y-%m-%d')\n",
    "    return d\n",
    "\n",
    "#creating function to determine how many days between signing up and scheduling an event \n",
    "def days_between(row): \n",
    "    return (row['event_date'] - row['sign_up_date']).days"
   ]
  },
  {
   "cell_type": "code",
   "execution_count": 26,
   "metadata": {},
   "outputs": [],
   "source": [
    "import re \n",
    "\n",
    "#creating regex function to find date pattern \n",
    "def date_regex(x):\n",
    "    d = re.compile(r'\\d\\d\\d\\d-\\d\\d-\\d\\d')\n",
    "    mo = d.search(x)\n",
    "    return mo.group()"
   ]
  },
  {
   "cell_type": "code",
   "execution_count": null,
   "metadata": {},
   "outputs": [],
   "source": [
    "events_df['date'] = events_df.created_at.apply(date_regex).apply(date_time)"
   ]
  },
  {
   "cell_type": "code",
   "execution_count": 280,
   "metadata": {},
   "outputs": [],
   "source": [
    "ee = events_df.groupby([pd.Grouper(key='date', freq='M')]).size().reset_index().sort_values('date')\n",
    "ee.rename(columns={0:'#_of_monthly_events'}, inplace=True)\n",
    "ee['month'] = ['Jan', 'Feb','Mar','Apr','May','Jun','Jul']\n",
    "ee"
   ]
  },
  {
   "cell_type": "code",
   "execution_count": 285,
   "metadata": {},
   "outputs": [
    {
     "data": {
      "text/html": [
       "<div>\n",
       "<style scoped>\n",
       "    .dataframe tbody tr th:only-of-type {\n",
       "        vertical-align: middle;\n",
       "    }\n",
       "\n",
       "    .dataframe tbody tr th {\n",
       "        vertical-align: top;\n",
       "    }\n",
       "\n",
       "    .dataframe thead th {\n",
       "        text-align: right;\n",
       "    }\n",
       "</style>\n",
       "<table border=\"1\" class=\"dataframe\">\n",
       "  <thead>\n",
       "    <tr style=\"text-align: right;\">\n",
       "      <th></th>\n",
       "      <th>#_of_monthly_events</th>\n",
       "    </tr>\n",
       "    <tr>\n",
       "      <th>month</th>\n",
       "      <th></th>\n",
       "    </tr>\n",
       "  </thead>\n",
       "  <tbody>\n",
       "    <tr>\n",
       "      <th>Jan</th>\n",
       "      <td>9837</td>\n",
       "    </tr>\n",
       "    <tr>\n",
       "      <th>Feb</th>\n",
       "      <td>14158</td>\n",
       "    </tr>\n",
       "    <tr>\n",
       "      <th>Mar</th>\n",
       "      <td>19440</td>\n",
       "    </tr>\n",
       "    <tr>\n",
       "      <th>Apr</th>\n",
       "      <td>23034</td>\n",
       "    </tr>\n",
       "    <tr>\n",
       "      <th>May</th>\n",
       "      <td>24521</td>\n",
       "    </tr>\n",
       "    <tr>\n",
       "      <th>Jun</th>\n",
       "      <td>23347</td>\n",
       "    </tr>\n",
       "    <tr>\n",
       "      <th>Jul</th>\n",
       "      <td>1509</td>\n",
       "    </tr>\n",
       "  </tbody>\n",
       "</table>\n",
       "</div>"
      ],
      "text/plain": [
       "       #_of_monthly_events\n",
       "month                     \n",
       "Jan                   9837\n",
       "Feb                  14158\n",
       "Mar                  19440\n",
       "Apr                  23034\n",
       "May                  24521\n",
       "Jun                  23347\n",
       "Jul                   1509"
      ]
     },
     "execution_count": 285,
     "metadata": {},
     "output_type": "execute_result"
    }
   ],
   "source": [
    "eee = ee[['#_of_monthly_events', 'month']]\n",
    "eee.set_index('month', inplace=True)\n",
    "eee"
   ]
  },
  {
   "cell_type": "markdown",
   "metadata": {},
   "source": [
    "**Answer:** As of July 1, 2019 - 115,846 events were scheduled.\n",
    "\n",
    "---\n"
   ]
  },
  {
   "cell_type": "markdown",
   "metadata": {},
   "source": [
    "## Which registered user has completed the most events? \n"
   ]
  },
  {
   "cell_type": "code",
   "execution_count": 14,
   "metadata": {},
   "outputs": [
    {
     "data": {
      "text/html": [
       "<div>\n",
       "<style scoped>\n",
       "    .dataframe tbody tr th:only-of-type {\n",
       "        vertical-align: middle;\n",
       "    }\n",
       "\n",
       "    .dataframe tbody tr th {\n",
       "        vertical-align: top;\n",
       "    }\n",
       "\n",
       "    .dataframe thead th {\n",
       "        text-align: right;\n",
       "    }\n",
       "</style>\n",
       "<table border=\"1\" class=\"dataframe\">\n",
       "  <thead>\n",
       "    <tr style=\"text-align: right;\">\n",
       "      <th></th>\n",
       "      <th>index</th>\n",
       "      <th>id</th>\n",
       "      <th>user_id</th>\n",
       "      <th>cancelled</th>\n",
       "      <th>organization_id</th>\n",
       "      <th>created_at</th>\n",
       "    </tr>\n",
       "  </thead>\n",
       "  <tbody>\n",
       "    <tr>\n",
       "      <th>0</th>\n",
       "      <td>0</td>\n",
       "      <td>87286910</td>\n",
       "      <td>4257474</td>\n",
       "      <td>0</td>\n",
       "      <td>6391995</td>\n",
       "      <td>2019-01-01 14:57:38.571000</td>\n",
       "    </tr>\n",
       "    <tr>\n",
       "      <th>1</th>\n",
       "      <td>1</td>\n",
       "      <td>87580836</td>\n",
       "      <td>4258380</td>\n",
       "      <td>0</td>\n",
       "      <td>6393354</td>\n",
       "      <td>2019-01-03 11:48:26.548000</td>\n",
       "    </tr>\n",
       "    <tr>\n",
       "      <th>2</th>\n",
       "      <td>2</td>\n",
       "      <td>87750928</td>\n",
       "      <td>4257044</td>\n",
       "      <td>0</td>\n",
       "      <td>6391350</td>\n",
       "      <td>2019-01-03 23:37:04.896000</td>\n",
       "    </tr>\n",
       "    <tr>\n",
       "      <th>3</th>\n",
       "      <td>3</td>\n",
       "      <td>88162942</td>\n",
       "      <td>4291770</td>\n",
       "      <td>0</td>\n",
       "      <td>6443514</td>\n",
       "      <td>2019-01-07 12:19:16.062000</td>\n",
       "    </tr>\n",
       "    <tr>\n",
       "      <th>4</th>\n",
       "      <td>4</td>\n",
       "      <td>87318462</td>\n",
       "      <td>4258636</td>\n",
       "      <td>1</td>\n",
       "      <td>6393738</td>\n",
       "      <td>2019-01-02 00:23:05.045000</td>\n",
       "    </tr>\n",
       "  </tbody>\n",
       "</table>\n",
       "</div>"
      ],
      "text/plain": [
       "   index        id  user_id  cancelled  organization_id  \\\n",
       "0      0  87286910  4257474          0          6391995   \n",
       "1      1  87580836  4258380          0          6393354   \n",
       "2      2  87750928  4257044          0          6391350   \n",
       "3      3  88162942  4291770          0          6443514   \n",
       "4      4  87318462  4258636          1          6393738   \n",
       "\n",
       "                   created_at  \n",
       "0  2019-01-01 14:57:38.571000  \n",
       "1  2019-01-03 11:48:26.548000  \n",
       "2  2019-01-03 23:37:04.896000  \n",
       "3  2019-01-07 12:19:16.062000  \n",
       "4  2019-01-02 00:23:05.045000  "
      ]
     },
     "execution_count": 14,
     "metadata": {},
     "output_type": "execute_result"
    }
   ],
   "source": [
    "events_df.head()"
   ]
  },
  {
   "cell_type": "code",
   "execution_count": 107,
   "metadata": {},
   "outputs": [
    {
     "name": "stdout",
     "output_type": "stream",
     "text": [
      "Number of unique user_id: 7896\n",
      "\n",
      "\n",
      "Top 5 Registered users with events scheduled\n"
     ]
    },
    {
     "data": {
      "text/plain": [
       "4257478    935\n",
       "4405664    772\n",
       "5212162    671\n",
       "4645160    592\n",
       "4257592    592\n",
       "Name: user_id, dtype: int64"
      ]
     },
     "execution_count": 107,
     "metadata": {},
     "output_type": "execute_result"
    }
   ],
   "source": [
    "#checking unique value counts \n",
    "print(\"Number of unique user_id:\",len(events_df.user_id.value_counts()))\n",
    "print('\\n')\n",
    "print('Top 5 Registered users with events scheduled')\n",
    "events_df.user_id.value_counts().nlargest()"
   ]
  },
  {
   "cell_type": "code",
   "execution_count": 16,
   "metadata": {},
   "outputs": [],
   "source": [
    "#grouping scheduled events by user id\n",
    "scheduled = events_df.groupby('user_id').size().reset_index()\n",
    "scheduled.rename(columns={0: 'scheduled_events'}, inplace=True)"
   ]
  },
  {
   "cell_type": "code",
   "execution_count": 17,
   "metadata": {},
   "outputs": [],
   "source": [
    "#creating a cancelled event df \n",
    "cancel_df = events_df[events_df.cancelled != 0]"
   ]
  },
  {
   "cell_type": "code",
   "execution_count": 18,
   "metadata": {},
   "outputs": [],
   "source": [
    "#grouping cancelled events by user_id\n",
    "cancel = cancel_df.groupby('user_id')['cancelled'].count().reset_index()"
   ]
  },
  {
   "cell_type": "code",
   "execution_count": 19,
   "metadata": {},
   "outputs": [],
   "source": [
    "#merging datasets on user_id\n",
    "most = pd.merge(scheduled, cancel, on='user_id')\n",
    "\n",
    "#subtracting cancelled events from scheduled events \n",
    "most['completed_event'] = most.scheduled_events - most.cancelled"
   ]
  },
  {
   "cell_type": "code",
   "execution_count": 21,
   "metadata": {},
   "outputs": [],
   "source": [
    "#setting user_id as index \n",
    "most.set_index('user_id', inplace=True)"
   ]
  },
  {
   "cell_type": "code",
   "execution_count": 123,
   "metadata": {},
   "outputs": [
    {
     "name": "stdout",
     "output_type": "stream",
     "text": [
      "Top 5 Registered users with completed events\n"
     ]
    },
    {
     "data": {
      "text/plain": [
       "user_id\n",
       "4257478    732\n",
       "4405664    693\n",
       "5212162    607\n",
       "4645160    536\n",
       "5001568    527\n",
       "Name: completed_event, dtype: int64"
      ]
     },
     "execution_count": 123,
     "metadata": {},
     "output_type": "execute_result"
    }
   ],
   "source": [
    "print('Top 5 Registered users with completed events')\n",
    "most.completed_event.nlargest()"
   ]
  },
  {
   "cell_type": "markdown",
   "metadata": {},
   "source": [
    "## Answer:\n",
    "`user_id = 4257478 ` has completed the most events, at 732 events. \n",
    "\n",
    "**Note:** 3,379 users have not cancelled an event (4,526 users have cancelled at least one event) \n",
    "\n",
    "---"
   ]
  },
  {
   "cell_type": "markdown",
   "metadata": {},
   "source": [
    "## How many registered users had their first event within a week of signing up? "
   ]
  },
  {
   "cell_type": "code",
   "execution_count": 23,
   "metadata": {},
   "outputs": [],
   "source": [
    "#merging datasets needed to answer question\n",
    "all_df = pd.merge(users_df, events_df, left_on='id', right_on='user_id', left_index=True)\n",
    "all_df.rename(columns={'created_at_x' : 'signed_up_at', 'created_at_y': 'event_created_at', 'id_y':'id',}, inplace=True)\n",
    "all_df.drop(['index_x','id_x','index_y'], axis=1, inplace=True)"
   ]
  },
  {
   "cell_type": "code",
   "execution_count": 24,
   "metadata": {},
   "outputs": [
    {
     "data": {
      "text/html": [
       "<div>\n",
       "<style scoped>\n",
       "    .dataframe tbody tr th:only-of-type {\n",
       "        vertical-align: middle;\n",
       "    }\n",
       "\n",
       "    .dataframe tbody tr th {\n",
       "        vertical-align: top;\n",
       "    }\n",
       "\n",
       "    .dataframe thead th {\n",
       "        text-align: right;\n",
       "    }\n",
       "</style>\n",
       "<table border=\"1\" class=\"dataframe\">\n",
       "  <thead>\n",
       "    <tr style=\"text-align: right;\">\n",
       "      <th></th>\n",
       "      <th>signed_up_at</th>\n",
       "      <th>confirmed_at</th>\n",
       "      <th>company_role</th>\n",
       "      <th>referees_count</th>\n",
       "      <th>country_code</th>\n",
       "      <th>id</th>\n",
       "      <th>user_id</th>\n",
       "      <th>cancelled</th>\n",
       "      <th>organization_id</th>\n",
       "      <th>event_created_at</th>\n",
       "    </tr>\n",
       "  </thead>\n",
       "  <tbody>\n",
       "    <tr>\n",
       "      <th>135</th>\n",
       "      <td>2019-01-01 17:57:35.923000</td>\n",
       "      <td>2019-01-01 17:57:35.920000</td>\n",
       "      <td>other</td>\n",
       "      <td>0</td>\n",
       "      <td>US</td>\n",
       "      <td>93245450</td>\n",
       "      <td>4257926</td>\n",
       "      <td>0</td>\n",
       "      <td>6392673</td>\n",
       "      <td>2019-01-30 21:19:01.441000</td>\n",
       "    </tr>\n",
       "    <tr>\n",
       "      <th>1661</th>\n",
       "      <td>2019-01-01 17:57:35.923000</td>\n",
       "      <td>2019-01-01 17:57:35.920000</td>\n",
       "      <td>other</td>\n",
       "      <td>0</td>\n",
       "      <td>US</td>\n",
       "      <td>92785636</td>\n",
       "      <td>4257926</td>\n",
       "      <td>0</td>\n",
       "      <td>6392673</td>\n",
       "      <td>2019-01-29 10:10:14.039000</td>\n",
       "    </tr>\n",
       "    <tr>\n",
       "      <th>2617</th>\n",
       "      <td>2019-01-01 17:57:35.923000</td>\n",
       "      <td>2019-01-01 17:57:35.920000</td>\n",
       "      <td>other</td>\n",
       "      <td>0</td>\n",
       "      <td>US</td>\n",
       "      <td>93223688</td>\n",
       "      <td>4257926</td>\n",
       "      <td>1</td>\n",
       "      <td>6392673</td>\n",
       "      <td>2019-01-30 20:14:31.502000</td>\n",
       "    </tr>\n",
       "    <tr>\n",
       "      <th>2906</th>\n",
       "      <td>2019-01-01 17:57:35.923000</td>\n",
       "      <td>2019-01-01 17:57:35.920000</td>\n",
       "      <td>other</td>\n",
       "      <td>0</td>\n",
       "      <td>US</td>\n",
       "      <td>93244036</td>\n",
       "      <td>4257926</td>\n",
       "      <td>0</td>\n",
       "      <td>6392673</td>\n",
       "      <td>2019-01-30 21:14:31.847000</td>\n",
       "    </tr>\n",
       "    <tr>\n",
       "      <th>7003</th>\n",
       "      <td>2019-01-01 17:57:35.923000</td>\n",
       "      <td>2019-01-01 17:57:35.920000</td>\n",
       "      <td>other</td>\n",
       "      <td>0</td>\n",
       "      <td>US</td>\n",
       "      <td>92564670</td>\n",
       "      <td>4257926</td>\n",
       "      <td>0</td>\n",
       "      <td>6392673</td>\n",
       "      <td>2019-01-28 16:53:38.490000</td>\n",
       "    </tr>\n",
       "  </tbody>\n",
       "</table>\n",
       "</div>"
      ],
      "text/plain": [
       "                    signed_up_at                confirmed_at company_role  \\\n",
       "135   2019-01-01 17:57:35.923000  2019-01-01 17:57:35.920000        other   \n",
       "1661  2019-01-01 17:57:35.923000  2019-01-01 17:57:35.920000        other   \n",
       "2617  2019-01-01 17:57:35.923000  2019-01-01 17:57:35.920000        other   \n",
       "2906  2019-01-01 17:57:35.923000  2019-01-01 17:57:35.920000        other   \n",
       "7003  2019-01-01 17:57:35.923000  2019-01-01 17:57:35.920000        other   \n",
       "\n",
       "      referees_count country_code        id  user_id  cancelled  \\\n",
       "135                0           US  93245450  4257926          0   \n",
       "1661               0           US  92785636  4257926          0   \n",
       "2617               0           US  93223688  4257926          1   \n",
       "2906               0           US  93244036  4257926          0   \n",
       "7003               0           US  92564670  4257926          0   \n",
       "\n",
       "      organization_id            event_created_at  \n",
       "135           6392673  2019-01-30 21:19:01.441000  \n",
       "1661          6392673  2019-01-29 10:10:14.039000  \n",
       "2617          6392673  2019-01-30 20:14:31.502000  \n",
       "2906          6392673  2019-01-30 21:14:31.847000  \n",
       "7003          6392673  2019-01-28 16:53:38.490000  "
      ]
     },
     "execution_count": 24,
     "metadata": {},
     "output_type": "execute_result"
    }
   ],
   "source": [
    "all_df.head()"
   ]
  },
  {
   "cell_type": "code",
   "execution_count": 269,
   "metadata": {},
   "outputs": [
    {
     "data": {
      "text/html": [
       "<div>\n",
       "<style scoped>\n",
       "    .dataframe tbody tr th:only-of-type {\n",
       "        vertical-align: middle;\n",
       "    }\n",
       "\n",
       "    .dataframe tbody tr th {\n",
       "        vertical-align: top;\n",
       "    }\n",
       "\n",
       "    .dataframe thead th {\n",
       "        text-align: right;\n",
       "    }\n",
       "</style>\n",
       "<table border=\"1\" class=\"dataframe\">\n",
       "  <thead>\n",
       "    <tr style=\"text-align: right;\">\n",
       "      <th></th>\n",
       "      <th>index</th>\n",
       "      <th>id</th>\n",
       "      <th>user_id</th>\n",
       "      <th>cancelled</th>\n",
       "      <th>organization_id</th>\n",
       "      <th>created_at</th>\n",
       "      <th>date</th>\n",
       "    </tr>\n",
       "  </thead>\n",
       "  <tbody>\n",
       "    <tr>\n",
       "      <th>0</th>\n",
       "      <td>0</td>\n",
       "      <td>87286910</td>\n",
       "      <td>4257474</td>\n",
       "      <td>0</td>\n",
       "      <td>6391995</td>\n",
       "      <td>2019-01-01 14:57:38.571000</td>\n",
       "      <td>2019-01-01</td>\n",
       "    </tr>\n",
       "    <tr>\n",
       "      <th>1</th>\n",
       "      <td>1</td>\n",
       "      <td>87580836</td>\n",
       "      <td>4258380</td>\n",
       "      <td>0</td>\n",
       "      <td>6393354</td>\n",
       "      <td>2019-01-03 11:48:26.548000</td>\n",
       "      <td>2019-01-03</td>\n",
       "    </tr>\n",
       "    <tr>\n",
       "      <th>2</th>\n",
       "      <td>2</td>\n",
       "      <td>87750928</td>\n",
       "      <td>4257044</td>\n",
       "      <td>0</td>\n",
       "      <td>6391350</td>\n",
       "      <td>2019-01-03 23:37:04.896000</td>\n",
       "      <td>2019-01-03</td>\n",
       "    </tr>\n",
       "    <tr>\n",
       "      <th>3</th>\n",
       "      <td>3</td>\n",
       "      <td>88162942</td>\n",
       "      <td>4291770</td>\n",
       "      <td>0</td>\n",
       "      <td>6443514</td>\n",
       "      <td>2019-01-07 12:19:16.062000</td>\n",
       "      <td>2019-01-07</td>\n",
       "    </tr>\n",
       "    <tr>\n",
       "      <th>4</th>\n",
       "      <td>4</td>\n",
       "      <td>87318462</td>\n",
       "      <td>4258636</td>\n",
       "      <td>1</td>\n",
       "      <td>6393738</td>\n",
       "      <td>2019-01-02 00:23:05.045000</td>\n",
       "      <td>2019-01-02</td>\n",
       "    </tr>\n",
       "  </tbody>\n",
       "</table>\n",
       "</div>"
      ],
      "text/plain": [
       "   index        id  user_id  cancelled  organization_id  \\\n",
       "0      0  87286910  4257474          0          6391995   \n",
       "1      1  87580836  4258380          0          6393354   \n",
       "2      2  87750928  4257044          0          6391350   \n",
       "3      3  88162942  4291770          0          6443514   \n",
       "4      4  87318462  4258636          1          6393738   \n",
       "\n",
       "                   created_at       date  \n",
       "0  2019-01-01 14:57:38.571000 2019-01-01  \n",
       "1  2019-01-03 11:48:26.548000 2019-01-03  \n",
       "2  2019-01-03 23:37:04.896000 2019-01-03  \n",
       "3  2019-01-07 12:19:16.062000 2019-01-07  \n",
       "4  2019-01-02 00:23:05.045000 2019-01-02  "
      ]
     },
     "execution_count": 269,
     "metadata": {},
     "output_type": "execute_result"
    }
   ],
   "source": [
    "#creating \n",
    "events_df['date'] = events_df.created_at.apply(date_regex).apply(date_time)\n",
    "events_df.head()"
   ]
  },
  {
   "cell_type": "code",
   "execution_count": 27,
   "metadata": {},
   "outputs": [],
   "source": [
    "#applying functions to dataset\n",
    "all_df['sign_up_date'] = all_df.signed_up_at.apply(date_regex).apply(date_time)\n",
    "all_df['event_date'] = all_df.event_created_at.apply(date_regex).apply(date_time)\n",
    "all_df['day_btwn'] = all_df.apply(days_between, axis=1)"
   ]
  },
  {
   "cell_type": "code",
   "execution_count": 28,
   "metadata": {},
   "outputs": [],
   "source": [
    "#selecting days_between 7 days or under (within a week of signing up)\n",
    "week = all_df[all_df.day_btwn <= 7]"
   ]
  },
  {
   "cell_type": "code",
   "execution_count": 29,
   "metadata": {},
   "outputs": [
    {
     "data": {
      "text/plain": [
       "6443"
      ]
     },
     "execution_count": 29,
     "metadata": {},
     "output_type": "execute_result"
    }
   ],
   "source": [
    "#grouping by user id and printing the length of the list\n",
    "len(week.groupby('user_id')['day_btwn'].size().reset_index())"
   ]
  },
  {
   "cell_type": "code",
   "execution_count": 30,
   "metadata": {},
   "outputs": [
    {
     "data": {
      "text/html": [
       "<div>\n",
       "<style scoped>\n",
       "    .dataframe tbody tr th:only-of-type {\n",
       "        vertical-align: middle;\n",
       "    }\n",
       "\n",
       "    .dataframe tbody tr th {\n",
       "        vertical-align: top;\n",
       "    }\n",
       "\n",
       "    .dataframe thead th {\n",
       "        text-align: right;\n",
       "    }\n",
       "</style>\n",
       "<table border=\"1\" class=\"dataframe\">\n",
       "  <thead>\n",
       "    <tr style=\"text-align: right;\">\n",
       "      <th></th>\n",
       "      <th>#_events_1st_week</th>\n",
       "    </tr>\n",
       "    <tr>\n",
       "      <th>user_id</th>\n",
       "      <th></th>\n",
       "    </tr>\n",
       "  </thead>\n",
       "  <tbody>\n",
       "    <tr>\n",
       "      <th>4526694</th>\n",
       "      <td>173</td>\n",
       "    </tr>\n",
       "    <tr>\n",
       "      <th>4348790</th>\n",
       "      <td>119</td>\n",
       "    </tr>\n",
       "    <tr>\n",
       "      <th>4943424</th>\n",
       "      <td>118</td>\n",
       "    </tr>\n",
       "    <tr>\n",
       "      <th>4405328</th>\n",
       "      <td>112</td>\n",
       "    </tr>\n",
       "    <tr>\n",
       "      <th>5890424</th>\n",
       "      <td>105</td>\n",
       "    </tr>\n",
       "    <tr>\n",
       "      <th>4827316</th>\n",
       "      <td>101</td>\n",
       "    </tr>\n",
       "    <tr>\n",
       "      <th>5212334</th>\n",
       "      <td>99</td>\n",
       "    </tr>\n",
       "    <tr>\n",
       "      <th>5377552</th>\n",
       "      <td>98</td>\n",
       "    </tr>\n",
       "    <tr>\n",
       "      <th>4405734</th>\n",
       "      <td>95</td>\n",
       "    </tr>\n",
       "    <tr>\n",
       "      <th>4883214</th>\n",
       "      <td>91</td>\n",
       "    </tr>\n",
       "  </tbody>\n",
       "</table>\n",
       "</div>"
      ],
      "text/plain": [
       "         #_events_1st_week\n",
       "user_id                   \n",
       "4526694                173\n",
       "4348790                119\n",
       "4943424                118\n",
       "4405328                112\n",
       "5890424                105\n",
       "4827316                101\n",
       "5212334                 99\n",
       "5377552                 98\n",
       "4405734                 95\n",
       "4883214                 91"
      ]
     },
     "execution_count": 30,
     "metadata": {},
     "output_type": "execute_result"
    }
   ],
   "source": [
    "#creating first event within a week of signing up df\n",
    "first_week = week.groupby('user_id')['day_btwn'].size().reset_index().sort_values(by='day_btwn',ascending=False)\n",
    "first_week.rename(columns={'day_btwn': '#_events_1st_week'}, inplace=True)\n",
    "first_week.set_index('user_id').head(10)"
   ]
  },
  {
   "cell_type": "markdown",
   "metadata": {},
   "source": [
    "## Answer:\n",
    "There are 6,443 or 5.96% registered users that had their first event within a week of signing up.\n",
    "\n",
    "**Note:** Six registered users had more than 100 events scheduled within the first week of signing up. \n",
    "\n",
    "---"
   ]
  },
  {
   "cell_type": "markdown",
   "metadata": {},
   "source": [
    "## What is the percentage breakout of Calendar types by registered users? (how many don't have a calendar?) "
   ]
  },
  {
   "cell_type": "code",
   "execution_count": 31,
   "metadata": {},
   "outputs": [
    {
     "data": {
      "text/html": [
       "<div>\n",
       "<style scoped>\n",
       "    .dataframe tbody tr th:only-of-type {\n",
       "        vertical-align: middle;\n",
       "    }\n",
       "\n",
       "    .dataframe tbody tr th {\n",
       "        vertical-align: top;\n",
       "    }\n",
       "\n",
       "    .dataframe thead th {\n",
       "        text-align: right;\n",
       "    }\n",
       "</style>\n",
       "<table border=\"1\" class=\"dataframe\">\n",
       "  <thead>\n",
       "    <tr style=\"text-align: right;\">\n",
       "      <th></th>\n",
       "      <th>index</th>\n",
       "      <th>user_id</th>\n",
       "      <th>created_at</th>\n",
       "      <th>calendar_type</th>\n",
       "    </tr>\n",
       "  </thead>\n",
       "  <tbody>\n",
       "    <tr>\n",
       "      <th>0</th>\n",
       "      <td>0</td>\n",
       "      <td>4886704</td>\n",
       "      <td>2019-03-18 14:45:50.670000</td>\n",
       "      <td>outlook</td>\n",
       "    </tr>\n",
       "    <tr>\n",
       "      <th>1</th>\n",
       "      <td>1</td>\n",
       "      <td>5554602</td>\n",
       "      <td>2019-05-20 09:32:24.536000</td>\n",
       "      <td>outlook</td>\n",
       "    </tr>\n",
       "    <tr>\n",
       "      <th>2</th>\n",
       "      <td>2</td>\n",
       "      <td>4470228</td>\n",
       "      <td>2019-01-28 17:00:19.396000</td>\n",
       "      <td>outlook</td>\n",
       "    </tr>\n",
       "    <tr>\n",
       "      <th>3</th>\n",
       "      <td>3</td>\n",
       "      <td>4650574</td>\n",
       "      <td>2019-02-18 17:24:44.059000</td>\n",
       "      <td>google</td>\n",
       "    </tr>\n",
       "    <tr>\n",
       "      <th>4</th>\n",
       "      <td>4</td>\n",
       "      <td>4527860</td>\n",
       "      <td>2019-02-04 13:06:44.909000</td>\n",
       "      <td>google</td>\n",
       "    </tr>\n",
       "  </tbody>\n",
       "</table>\n",
       "</div>"
      ],
      "text/plain": [
       "   index  user_id                  created_at calendar_type\n",
       "0      0  4886704  2019-03-18 14:45:50.670000       outlook\n",
       "1      1  5554602  2019-05-20 09:32:24.536000       outlook\n",
       "2      2  4470228  2019-01-28 17:00:19.396000       outlook\n",
       "3      3  4650574  2019-02-18 17:24:44.059000        google\n",
       "4      4  4527860  2019-02-04 13:06:44.909000        google"
      ]
     },
     "execution_count": 31,
     "metadata": {},
     "output_type": "execute_result"
    }
   ],
   "source": [
    "calendar_types_df.head()"
   ]
  },
  {
   "cell_type": "code",
   "execution_count": 132,
   "metadata": {},
   "outputs": [
    {
     "name": "stdout",
     "output_type": "stream",
     "text": [
      "google             51457\n",
      "outlook            11239\n",
      "outlook_desktop     2153\n",
      "icloud               615\n",
      "Name: calendar_type, dtype: int64\n",
      "\n",
      "\n"
     ]
    },
    {
     "data": {
      "text/plain": [
       "index            0\n",
       "user_id          0\n",
       "created_at       0\n",
       "calendar_type    0\n",
       "dtype: int64"
      ]
     },
     "execution_count": 132,
     "metadata": {},
     "output_type": "execute_result"
    }
   ],
   "source": [
    "print(calendar_types_df.calendar_type.value_counts())\n",
    "print('\\n')\n",
    "calendar_types_df.isna().sum()"
   ]
  },
  {
   "cell_type": "code",
   "execution_count": 33,
   "metadata": {},
   "outputs": [],
   "source": [
    "cal_type = calendar_types_df.groupby(['calendar_type'])['user_id'].size().reset_index()\n",
    "cal_type['%_breakdown'] = round((cal_type.user_id / cal_type.user_id.sum())*100,2)"
   ]
  },
  {
   "cell_type": "markdown",
   "metadata": {},
   "source": [
    "**Note:** After checking there are no duplicate user id's within the table `calendar_types_df`, the percentage breakout of calendar types of those with calendars are below. "
   ]
  },
  {
   "cell_type": "code",
   "execution_count": 34,
   "metadata": {},
   "outputs": [
    {
     "data": {
      "text/html": [
       "<div>\n",
       "<style scoped>\n",
       "    .dataframe tbody tr th:only-of-type {\n",
       "        vertical-align: middle;\n",
       "    }\n",
       "\n",
       "    .dataframe tbody tr th {\n",
       "        vertical-align: top;\n",
       "    }\n",
       "\n",
       "    .dataframe thead th {\n",
       "        text-align: right;\n",
       "    }\n",
       "</style>\n",
       "<table border=\"1\" class=\"dataframe\">\n",
       "  <thead>\n",
       "    <tr style=\"text-align: right;\">\n",
       "      <th></th>\n",
       "      <th>calendar_type</th>\n",
       "      <th>user_id</th>\n",
       "      <th>%_breakdown</th>\n",
       "    </tr>\n",
       "  </thead>\n",
       "  <tbody>\n",
       "    <tr>\n",
       "      <th>0</th>\n",
       "      <td>google</td>\n",
       "      <td>51457</td>\n",
       "      <td>78.60</td>\n",
       "    </tr>\n",
       "    <tr>\n",
       "      <th>1</th>\n",
       "      <td>icloud</td>\n",
       "      <td>615</td>\n",
       "      <td>0.94</td>\n",
       "    </tr>\n",
       "    <tr>\n",
       "      <th>2</th>\n",
       "      <td>outlook</td>\n",
       "      <td>11239</td>\n",
       "      <td>17.17</td>\n",
       "    </tr>\n",
       "    <tr>\n",
       "      <th>3</th>\n",
       "      <td>outlook_desktop</td>\n",
       "      <td>2153</td>\n",
       "      <td>3.29</td>\n",
       "    </tr>\n",
       "  </tbody>\n",
       "</table>\n",
       "</div>"
      ],
      "text/plain": [
       "     calendar_type  user_id  %_breakdown\n",
       "0           google    51457        78.60\n",
       "1           icloud      615         0.94\n",
       "2          outlook    11239        17.17\n",
       "3  outlook_desktop     2153         3.29"
      ]
     },
     "execution_count": 34,
     "metadata": {},
     "output_type": "execute_result"
    }
   ],
   "source": [
    "cal_type"
   ]
  },
  {
   "cell_type": "markdown",
   "metadata": {},
   "source": [
    "**Note:** Within users with calendar, 78% of users use google calendar. \n",
    "\n",
    "\n",
    "Let check how many registered users do not have a calendar. "
   ]
  },
  {
   "cell_type": "code",
   "execution_count": 243,
   "metadata": {},
   "outputs": [],
   "source": [
    "#merging users_df and calendar_types_df\n",
    "cc = pd.merge(users_df, calendar_types_df, left_on='id', right_on='user_id', how='left')\n",
    "cc.drop('user_id',axis=1, inplace=True)\n",
    "cc.rename(columns={'id':'user_id'},inplace=True)\n",
    "cc.calendar_type.fillna('None', inplace=True)\n",
    "\n",
    "#grouping by calendar type\n",
    "total_cal_type = cc.groupby(['calendar_type'])['user_id'].size().reset_index()\n",
    "total_cal_type['%_breakdown'] = round((ccc.user_id / ccc.user_id.sum())*100,2)"
   ]
  },
  {
   "cell_type": "code",
   "execution_count": 244,
   "metadata": {},
   "outputs": [
    {
     "data": {
      "text/html": [
       "<div>\n",
       "<style scoped>\n",
       "    .dataframe tbody tr th:only-of-type {\n",
       "        vertical-align: middle;\n",
       "    }\n",
       "\n",
       "    .dataframe tbody tr th {\n",
       "        vertical-align: top;\n",
       "    }\n",
       "\n",
       "    .dataframe thead th {\n",
       "        text-align: right;\n",
       "    }\n",
       "</style>\n",
       "<table border=\"1\" class=\"dataframe\">\n",
       "  <thead>\n",
       "    <tr style=\"text-align: right;\">\n",
       "      <th></th>\n",
       "      <th>calendar_type</th>\n",
       "      <th>user_id</th>\n",
       "      <th>%_breakdown</th>\n",
       "    </tr>\n",
       "  </thead>\n",
       "  <tbody>\n",
       "    <tr>\n",
       "      <th>0</th>\n",
       "      <td>None</td>\n",
       "      <td>42519</td>\n",
       "      <td>39.38</td>\n",
       "    </tr>\n",
       "    <tr>\n",
       "      <th>1</th>\n",
       "      <td>google</td>\n",
       "      <td>51457</td>\n",
       "      <td>47.65</td>\n",
       "    </tr>\n",
       "    <tr>\n",
       "      <th>2</th>\n",
       "      <td>icloud</td>\n",
       "      <td>615</td>\n",
       "      <td>0.57</td>\n",
       "    </tr>\n",
       "    <tr>\n",
       "      <th>3</th>\n",
       "      <td>outlook</td>\n",
       "      <td>11239</td>\n",
       "      <td>10.41</td>\n",
       "    </tr>\n",
       "    <tr>\n",
       "      <th>4</th>\n",
       "      <td>outlook_desktop</td>\n",
       "      <td>2153</td>\n",
       "      <td>1.99</td>\n",
       "    </tr>\n",
       "  </tbody>\n",
       "</table>\n",
       "</div>"
      ],
      "text/plain": [
       "     calendar_type  user_id  %_breakdown\n",
       "0             None    42519        39.38\n",
       "1           google    51457        47.65\n",
       "2           icloud      615         0.57\n",
       "3          outlook    11239        10.41\n",
       "4  outlook_desktop     2153         1.99"
      ]
     },
     "execution_count": 244,
     "metadata": {},
     "output_type": "execute_result"
    }
   ],
   "source": [
    "total_cal_type"
   ]
  },
  {
   "cell_type": "markdown",
   "metadata": {},
   "source": [
    "## Answer: \n",
    "There are 42,519 or 39% of total users without a calendar. "
   ]
  },
  {
   "cell_type": "markdown",
   "metadata": {},
   "source": [
    "---"
   ]
  },
  {
   "cell_type": "markdown",
   "metadata": {},
   "source": [
    "## What is the average WoW (week over week) % change in signups for 2019? "
   ]
  },
  {
   "cell_type": "markdown",
   "metadata": {},
   "source": [
    "We'll start by checking the column names, data types and number of entries. Then we'll convert `created_at` to datetime in order to manipulate the data. Then we'll create a column `qty` so we can easily aggregrate by week."
   ]
  },
  {
   "cell_type": "code",
   "execution_count": 35,
   "metadata": {},
   "outputs": [
    {
     "name": "stdout",
     "output_type": "stream",
     "text": [
      "<class 'pandas.core.frame.DataFrame'>\n",
      "RangeIndex: 107983 entries, 0 to 107982\n",
      "Data columns (total 7 columns):\n",
      "index             107983 non-null int64\n",
      "id                107983 non-null int64\n",
      "created_at        107983 non-null object\n",
      "confirmed_at      102621 non-null object\n",
      "company_role      87985 non-null object\n",
      "referees_count    107983 non-null int64\n",
      "country_code      107869 non-null object\n",
      "dtypes: int64(3), object(4)\n",
      "memory usage: 5.8+ MB\n"
     ]
    }
   ],
   "source": [
    "users_df.info()"
   ]
  },
  {
   "cell_type": "code",
   "execution_count": 36,
   "metadata": {},
   "outputs": [
    {
     "data": {
      "text/html": [
       "<div>\n",
       "<style scoped>\n",
       "    .dataframe tbody tr th:only-of-type {\n",
       "        vertical-align: middle;\n",
       "    }\n",
       "\n",
       "    .dataframe tbody tr th {\n",
       "        vertical-align: top;\n",
       "    }\n",
       "\n",
       "    .dataframe thead th {\n",
       "        text-align: right;\n",
       "    }\n",
       "</style>\n",
       "<table border=\"1\" class=\"dataframe\">\n",
       "  <thead>\n",
       "    <tr style=\"text-align: right;\">\n",
       "      <th></th>\n",
       "      <th>index</th>\n",
       "      <th>id</th>\n",
       "      <th>created_at</th>\n",
       "      <th>confirmed_at</th>\n",
       "      <th>company_role</th>\n",
       "      <th>referees_count</th>\n",
       "      <th>country_code</th>\n",
       "    </tr>\n",
       "  </thead>\n",
       "  <tbody>\n",
       "    <tr>\n",
       "      <th>0</th>\n",
       "      <td>0</td>\n",
       "      <td>4256788</td>\n",
       "      <td>2019-01-01 01:56:23.466000</td>\n",
       "      <td>2019-01-01 01:56:33.251000</td>\n",
       "      <td>executive</td>\n",
       "      <td>0</td>\n",
       "      <td>US</td>\n",
       "    </tr>\n",
       "    <tr>\n",
       "      <th>1</th>\n",
       "      <td>1</td>\n",
       "      <td>4257052</td>\n",
       "      <td>2019-01-01 06:35:49.932000</td>\n",
       "      <td>2019-01-01 06:35:49.926000</td>\n",
       "      <td>executive</td>\n",
       "      <td>0</td>\n",
       "      <td>IN</td>\n",
       "    </tr>\n",
       "    <tr>\n",
       "      <th>2</th>\n",
       "      <td>2</td>\n",
       "      <td>4257200</td>\n",
       "      <td>2019-01-01 09:24:25.285000</td>\n",
       "      <td>2019-01-01 09:24:25.282000</td>\n",
       "      <td>executive</td>\n",
       "      <td>0</td>\n",
       "      <td>VN</td>\n",
       "    </tr>\n",
       "    <tr>\n",
       "      <th>3</th>\n",
       "      <td>3</td>\n",
       "      <td>4257314</td>\n",
       "      <td>2019-01-01 11:43:29.084000</td>\n",
       "      <td>2019-01-01 11:43:29.079000</td>\n",
       "      <td>sales_marketing</td>\n",
       "      <td>0</td>\n",
       "      <td>BR</td>\n",
       "    </tr>\n",
       "    <tr>\n",
       "      <th>4</th>\n",
       "      <td>4</td>\n",
       "      <td>4257666</td>\n",
       "      <td>2019-01-01 15:59:24.760000</td>\n",
       "      <td>2019-01-01 16:01:50.487000</td>\n",
       "      <td>other</td>\n",
       "      <td>0</td>\n",
       "      <td>US</td>\n",
       "    </tr>\n",
       "  </tbody>\n",
       "</table>\n",
       "</div>"
      ],
      "text/plain": [
       "   index       id                  created_at                confirmed_at  \\\n",
       "0      0  4256788  2019-01-01 01:56:23.466000  2019-01-01 01:56:33.251000   \n",
       "1      1  4257052  2019-01-01 06:35:49.932000  2019-01-01 06:35:49.926000   \n",
       "2      2  4257200  2019-01-01 09:24:25.285000  2019-01-01 09:24:25.282000   \n",
       "3      3  4257314  2019-01-01 11:43:29.084000  2019-01-01 11:43:29.079000   \n",
       "4      4  4257666  2019-01-01 15:59:24.760000  2019-01-01 16:01:50.487000   \n",
       "\n",
       "      company_role  referees_count country_code  \n",
       "0        executive               0           US  \n",
       "1        executive               0           IN  \n",
       "2        executive               0           VN  \n",
       "3  sales_marketing               0           BR  \n",
       "4            other               0           US  "
      ]
     },
     "execution_count": 36,
     "metadata": {},
     "output_type": "execute_result"
    }
   ],
   "source": [
    "users_df.head()"
   ]
  },
  {
   "cell_type": "code",
   "execution_count": 37,
   "metadata": {},
   "outputs": [],
   "source": [
    "users_df['date'] = pd.to_datetime(users_df['created_at'])"
   ]
  },
  {
   "cell_type": "code",
   "execution_count": 38,
   "metadata": {},
   "outputs": [],
   "source": [
    "users_df['qty'] = 1 "
   ]
  },
  {
   "cell_type": "code",
   "execution_count": 45,
   "metadata": {},
   "outputs": [
    {
     "data": {
      "text/html": [
       "<div>\n",
       "<style scoped>\n",
       "    .dataframe tbody tr th:only-of-type {\n",
       "        vertical-align: middle;\n",
       "    }\n",
       "\n",
       "    .dataframe tbody tr th {\n",
       "        vertical-align: top;\n",
       "    }\n",
       "\n",
       "    .dataframe thead th {\n",
       "        text-align: right;\n",
       "    }\n",
       "</style>\n",
       "<table border=\"1\" class=\"dataframe\">\n",
       "  <thead>\n",
       "    <tr style=\"text-align: right;\">\n",
       "      <th></th>\n",
       "      <th>index</th>\n",
       "      <th>id</th>\n",
       "      <th>created_at</th>\n",
       "      <th>confirmed_at</th>\n",
       "      <th>company_role</th>\n",
       "      <th>referees_count</th>\n",
       "      <th>country_code</th>\n",
       "      <th>date</th>\n",
       "      <th>qty</th>\n",
       "    </tr>\n",
       "  </thead>\n",
       "  <tbody>\n",
       "    <tr>\n",
       "      <th>0</th>\n",
       "      <td>0</td>\n",
       "      <td>4256788</td>\n",
       "      <td>2019-01-01 01:56:23.466000</td>\n",
       "      <td>2019-01-01 01:56:33.251000</td>\n",
       "      <td>executive</td>\n",
       "      <td>0</td>\n",
       "      <td>US</td>\n",
       "      <td>2019-01-01 01:56:23.466</td>\n",
       "      <td>1</td>\n",
       "    </tr>\n",
       "    <tr>\n",
       "      <th>1</th>\n",
       "      <td>1</td>\n",
       "      <td>4257052</td>\n",
       "      <td>2019-01-01 06:35:49.932000</td>\n",
       "      <td>2019-01-01 06:35:49.926000</td>\n",
       "      <td>executive</td>\n",
       "      <td>0</td>\n",
       "      <td>IN</td>\n",
       "      <td>2019-01-01 06:35:49.932</td>\n",
       "      <td>1</td>\n",
       "    </tr>\n",
       "    <tr>\n",
       "      <th>2</th>\n",
       "      <td>2</td>\n",
       "      <td>4257200</td>\n",
       "      <td>2019-01-01 09:24:25.285000</td>\n",
       "      <td>2019-01-01 09:24:25.282000</td>\n",
       "      <td>executive</td>\n",
       "      <td>0</td>\n",
       "      <td>VN</td>\n",
       "      <td>2019-01-01 09:24:25.285</td>\n",
       "      <td>1</td>\n",
       "    </tr>\n",
       "    <tr>\n",
       "      <th>3</th>\n",
       "      <td>3</td>\n",
       "      <td>4257314</td>\n",
       "      <td>2019-01-01 11:43:29.084000</td>\n",
       "      <td>2019-01-01 11:43:29.079000</td>\n",
       "      <td>sales_marketing</td>\n",
       "      <td>0</td>\n",
       "      <td>BR</td>\n",
       "      <td>2019-01-01 11:43:29.084</td>\n",
       "      <td>1</td>\n",
       "    </tr>\n",
       "    <tr>\n",
       "      <th>4</th>\n",
       "      <td>4</td>\n",
       "      <td>4257666</td>\n",
       "      <td>2019-01-01 15:59:24.760000</td>\n",
       "      <td>2019-01-01 16:01:50.487000</td>\n",
       "      <td>other</td>\n",
       "      <td>0</td>\n",
       "      <td>US</td>\n",
       "      <td>2019-01-01 15:59:24.760</td>\n",
       "      <td>1</td>\n",
       "    </tr>\n",
       "  </tbody>\n",
       "</table>\n",
       "</div>"
      ],
      "text/plain": [
       "   index       id                  created_at                confirmed_at  \\\n",
       "0      0  4256788  2019-01-01 01:56:23.466000  2019-01-01 01:56:33.251000   \n",
       "1      1  4257052  2019-01-01 06:35:49.932000  2019-01-01 06:35:49.926000   \n",
       "2      2  4257200  2019-01-01 09:24:25.285000  2019-01-01 09:24:25.282000   \n",
       "3      3  4257314  2019-01-01 11:43:29.084000  2019-01-01 11:43:29.079000   \n",
       "4      4  4257666  2019-01-01 15:59:24.760000  2019-01-01 16:01:50.487000   \n",
       "\n",
       "      company_role  referees_count country_code                    date  qty  \n",
       "0        executive               0           US 2019-01-01 01:56:23.466    1  \n",
       "1        executive               0           IN 2019-01-01 06:35:49.932    1  \n",
       "2        executive               0           VN 2019-01-01 09:24:25.285    1  \n",
       "3  sales_marketing               0           BR 2019-01-01 11:43:29.084    1  \n",
       "4            other               0           US 2019-01-01 15:59:24.760    1  "
      ]
     },
     "execution_count": 45,
     "metadata": {},
     "output_type": "execute_result"
    }
   ],
   "source": [
    "users_df.head()"
   ]
  },
  {
   "cell_type": "code",
   "execution_count": 67,
   "metadata": {},
   "outputs": [],
   "source": [
    "#grouping number of user signups by week 'W'\n",
    "wow = pd.DataFrame(users_df.set_index('date').resample('W')['qty'].sum())"
   ]
  },
  {
   "cell_type": "code",
   "execution_count": 69,
   "metadata": {},
   "outputs": [],
   "source": [
    "wow['%_change'] = round((wow.qty.pct_change())*100, 4)"
   ]
  },
  {
   "cell_type": "code",
   "execution_count": 70,
   "metadata": {},
   "outputs": [
    {
     "data": {
      "text/html": [
       "<div>\n",
       "<style scoped>\n",
       "    .dataframe tbody tr th:only-of-type {\n",
       "        vertical-align: middle;\n",
       "    }\n",
       "\n",
       "    .dataframe tbody tr th {\n",
       "        vertical-align: top;\n",
       "    }\n",
       "\n",
       "    .dataframe thead th {\n",
       "        text-align: right;\n",
       "    }\n",
       "</style>\n",
       "<table border=\"1\" class=\"dataframe\">\n",
       "  <thead>\n",
       "    <tr style=\"text-align: right;\">\n",
       "      <th></th>\n",
       "      <th>qty</th>\n",
       "      <th>%_change</th>\n",
       "    </tr>\n",
       "    <tr>\n",
       "      <th>date</th>\n",
       "      <th></th>\n",
       "      <th></th>\n",
       "    </tr>\n",
       "  </thead>\n",
       "  <tbody>\n",
       "    <tr>\n",
       "      <th>2019-01-06</th>\n",
       "      <td>4001</td>\n",
       "      <td>NaN</td>\n",
       "    </tr>\n",
       "    <tr>\n",
       "      <th>2019-01-13</th>\n",
       "      <td>4001</td>\n",
       "      <td>0.0000</td>\n",
       "    </tr>\n",
       "    <tr>\n",
       "      <th>2019-01-20</th>\n",
       "      <td>3996</td>\n",
       "      <td>-0.1250</td>\n",
       "    </tr>\n",
       "    <tr>\n",
       "      <th>2019-01-27</th>\n",
       "      <td>4001</td>\n",
       "      <td>0.1251</td>\n",
       "    </tr>\n",
       "    <tr>\n",
       "      <th>2019-02-03</th>\n",
       "      <td>3998</td>\n",
       "      <td>-0.0750</td>\n",
       "    </tr>\n",
       "    <tr>\n",
       "      <th>2019-02-10</th>\n",
       "      <td>4001</td>\n",
       "      <td>0.0750</td>\n",
       "    </tr>\n",
       "    <tr>\n",
       "      <th>2019-02-17</th>\n",
       "      <td>4000</td>\n",
       "      <td>-0.0250</td>\n",
       "    </tr>\n",
       "    <tr>\n",
       "      <th>2019-02-24</th>\n",
       "      <td>4001</td>\n",
       "      <td>0.0250</td>\n",
       "    </tr>\n",
       "    <tr>\n",
       "      <th>2019-03-03</th>\n",
       "      <td>4001</td>\n",
       "      <td>0.0000</td>\n",
       "    </tr>\n",
       "    <tr>\n",
       "      <th>2019-03-10</th>\n",
       "      <td>4001</td>\n",
       "      <td>0.0000</td>\n",
       "    </tr>\n",
       "    <tr>\n",
       "      <th>2019-03-17</th>\n",
       "      <td>4001</td>\n",
       "      <td>0.0000</td>\n",
       "    </tr>\n",
       "    <tr>\n",
       "      <th>2019-03-24</th>\n",
       "      <td>3999</td>\n",
       "      <td>-0.0500</td>\n",
       "    </tr>\n",
       "    <tr>\n",
       "      <th>2019-03-31</th>\n",
       "      <td>3998</td>\n",
       "      <td>-0.0250</td>\n",
       "    </tr>\n",
       "    <tr>\n",
       "      <th>2019-04-07</th>\n",
       "      <td>3999</td>\n",
       "      <td>0.0250</td>\n",
       "    </tr>\n",
       "    <tr>\n",
       "      <th>2019-04-14</th>\n",
       "      <td>3996</td>\n",
       "      <td>-0.0750</td>\n",
       "    </tr>\n",
       "    <tr>\n",
       "      <th>2019-04-21</th>\n",
       "      <td>3998</td>\n",
       "      <td>0.0501</td>\n",
       "    </tr>\n",
       "    <tr>\n",
       "      <th>2019-04-28</th>\n",
       "      <td>4001</td>\n",
       "      <td>0.0750</td>\n",
       "    </tr>\n",
       "    <tr>\n",
       "      <th>2019-05-05</th>\n",
       "      <td>4000</td>\n",
       "      <td>-0.0250</td>\n",
       "    </tr>\n",
       "    <tr>\n",
       "      <th>2019-05-12</th>\n",
       "      <td>3998</td>\n",
       "      <td>-0.0500</td>\n",
       "    </tr>\n",
       "    <tr>\n",
       "      <th>2019-05-19</th>\n",
       "      <td>3997</td>\n",
       "      <td>-0.0250</td>\n",
       "    </tr>\n",
       "    <tr>\n",
       "      <th>2019-05-26</th>\n",
       "      <td>4000</td>\n",
       "      <td>0.0751</td>\n",
       "    </tr>\n",
       "    <tr>\n",
       "      <th>2019-06-02</th>\n",
       "      <td>4000</td>\n",
       "      <td>0.0000</td>\n",
       "    </tr>\n",
       "    <tr>\n",
       "      <th>2019-06-09</th>\n",
       "      <td>4001</td>\n",
       "      <td>0.0250</td>\n",
       "    </tr>\n",
       "    <tr>\n",
       "      <th>2019-06-16</th>\n",
       "      <td>3996</td>\n",
       "      <td>-0.1250</td>\n",
       "    </tr>\n",
       "    <tr>\n",
       "      <th>2019-06-23</th>\n",
       "      <td>4001</td>\n",
       "      <td>0.1251</td>\n",
       "    </tr>\n",
       "    <tr>\n",
       "      <th>2019-06-30</th>\n",
       "      <td>3999</td>\n",
       "      <td>-0.0500</td>\n",
       "    </tr>\n",
       "    <tr>\n",
       "      <th>2019-07-07</th>\n",
       "      <td>3998</td>\n",
       "      <td>-0.0250</td>\n",
       "    </tr>\n",
       "  </tbody>\n",
       "</table>\n",
       "</div>"
      ],
      "text/plain": [
       "             qty  %_change\n",
       "date                      \n",
       "2019-01-06  4001       NaN\n",
       "2019-01-13  4001    0.0000\n",
       "2019-01-20  3996   -0.1250\n",
       "2019-01-27  4001    0.1251\n",
       "2019-02-03  3998   -0.0750\n",
       "2019-02-10  4001    0.0750\n",
       "2019-02-17  4000   -0.0250\n",
       "2019-02-24  4001    0.0250\n",
       "2019-03-03  4001    0.0000\n",
       "2019-03-10  4001    0.0000\n",
       "2019-03-17  4001    0.0000\n",
       "2019-03-24  3999   -0.0500\n",
       "2019-03-31  3998   -0.0250\n",
       "2019-04-07  3999    0.0250\n",
       "2019-04-14  3996   -0.0750\n",
       "2019-04-21  3998    0.0501\n",
       "2019-04-28  4001    0.0750\n",
       "2019-05-05  4000   -0.0250\n",
       "2019-05-12  3998   -0.0500\n",
       "2019-05-19  3997   -0.0250\n",
       "2019-05-26  4000    0.0751\n",
       "2019-06-02  4000    0.0000\n",
       "2019-06-09  4001    0.0250\n",
       "2019-06-16  3996   -0.1250\n",
       "2019-06-23  4001    0.1251\n",
       "2019-06-30  3999   -0.0500\n",
       "2019-07-07  3998   -0.0250"
      ]
     },
     "execution_count": 70,
     "metadata": {},
     "output_type": "execute_result"
    }
   ],
   "source": [
    "wow"
   ]
  },
  {
   "cell_type": "code",
   "execution_count": 40,
   "metadata": {},
   "outputs": [
    {
     "name": "stdout",
     "output_type": "stream",
     "text": [
      "Week over week % change in signups for 2019: -0.0029%\n"
     ]
    }
   ],
   "source": [
    "print(f'Week over week % change in signups for 2019: {round((wow.pct_change().mean())*100, 4)}%')"
   ]
  },
  {
   "cell_type": "markdown",
   "metadata": {},
   "source": [
    "## Answer:\n",
    "The WoW % change in signups for 2019 is roughly -0.0029% or basically 0% \n",
    "\n",
    "---\n"
   ]
  },
  {
   "cell_type": "markdown",
   "metadata": {},
   "source": [
    "# Data Presentation\n",
    "---"
   ]
  },
  {
   "cell_type": "markdown",
   "metadata": {},
   "source": [
    "## By calendar type, which cohort uses Calendly with the most intensity? Please provide: \n",
    "- A write up on how you quantified the intensity, with at least 2 visualizations\n",
    "- Notes on why you suspected this behavior, and how you would use this information to guide product's direction\n",
    "\n",
    " "
   ]
  },
  {
   "cell_type": "markdown",
   "metadata": {},
   "source": [
    "**We quantified intensity by:**\n",
    "1. number of users \n",
    "2. number of events scheduled \n",
    "3. number of events scheduled within the first week of signing up and \n",
    "4. average events scheduled. \n"
   ]
  },
  {
   "cell_type": "code",
   "execution_count": 41,
   "metadata": {},
   "outputs": [],
   "source": [
    "#creating #_of_scheduled_events by user_id df\n",
    "user_event_count = pd.DataFrame(events_df.user_id.value_counts())\n",
    "user_event_count.reset_index(inplace=True)\n",
    "user_event_count.head()\n",
    "user_event_count.rename(columns={'index':'user_id', 'user_id':'#_of_schd_events'}, inplace=True)"
   ]
  },
  {
   "cell_type": "code",
   "execution_count": 51,
   "metadata": {},
   "outputs": [
    {
     "data": {
      "text/html": [
       "<div>\n",
       "<style scoped>\n",
       "    .dataframe tbody tr th:only-of-type {\n",
       "        vertical-align: middle;\n",
       "    }\n",
       "\n",
       "    .dataframe tbody tr th {\n",
       "        vertical-align: top;\n",
       "    }\n",
       "\n",
       "    .dataframe thead th {\n",
       "        text-align: right;\n",
       "    }\n",
       "</style>\n",
       "<table border=\"1\" class=\"dataframe\">\n",
       "  <thead>\n",
       "    <tr style=\"text-align: right;\">\n",
       "      <th></th>\n",
       "      <th>user_id</th>\n",
       "      <th>#_of_schd_events</th>\n",
       "    </tr>\n",
       "  </thead>\n",
       "  <tbody>\n",
       "    <tr>\n",
       "      <th>0</th>\n",
       "      <td>4257478</td>\n",
       "      <td>935</td>\n",
       "    </tr>\n",
       "    <tr>\n",
       "      <th>1</th>\n",
       "      <td>4405664</td>\n",
       "      <td>772</td>\n",
       "    </tr>\n",
       "    <tr>\n",
       "      <th>2</th>\n",
       "      <td>5212162</td>\n",
       "      <td>671</td>\n",
       "    </tr>\n",
       "    <tr>\n",
       "      <th>3</th>\n",
       "      <td>4645160</td>\n",
       "      <td>592</td>\n",
       "    </tr>\n",
       "    <tr>\n",
       "      <th>4</th>\n",
       "      <td>4257592</td>\n",
       "      <td>592</td>\n",
       "    </tr>\n",
       "  </tbody>\n",
       "</table>\n",
       "</div>"
      ],
      "text/plain": [
       "   user_id  #_of_schd_events\n",
       "0  4257478               935\n",
       "1  4405664               772\n",
       "2  5212162               671\n",
       "3  4645160               592\n",
       "4  4257592               592"
      ]
     },
     "execution_count": 51,
     "metadata": {},
     "output_type": "execute_result"
    }
   ],
   "source": [
    "user_event_count.head()"
   ]
  },
  {
   "cell_type": "code",
   "execution_count": 185,
   "metadata": {},
   "outputs": [],
   "source": [
    "#merging neccessary datasets\n",
    "m = pd.merge(cc,user_event_count ,on='user_id',how='left', left_index=True)\n",
    "mm = pd.merge(m, first_week, on='user_id', how='left', left_index=True)"
   ]
  },
  {
   "cell_type": "code",
   "execution_count": 193,
   "metadata": {},
   "outputs": [],
   "source": [
    "mm.reset_index(inplace=True)\n",
    "mm.drop(['index','index_x'], axis=1, inplace=True)"
   ]
  },
  {
   "cell_type": "code",
   "execution_count": 198,
   "metadata": {},
   "outputs": [],
   "source": [
    "df = mm[['user_id','calendar_type','#_of_schd_events','#_events_1st_week']]"
   ]
  },
  {
   "cell_type": "code",
   "execution_count": 203,
   "metadata": {},
   "outputs": [
    {
     "name": "stdout",
     "output_type": "stream",
     "text": [
      "<class 'pandas.core.frame.DataFrame'>\n",
      "RangeIndex: 107983 entries, 0 to 107982\n",
      "Data columns (total 4 columns):\n",
      "user_id              107983 non-null int64\n",
      "calendar_type        107983 non-null object\n",
      "#_of_schd_events     7896 non-null float64\n",
      "#_events_1st_week    6443 non-null float64\n",
      "dtypes: float64(2), int64(1), object(1)\n",
      "memory usage: 3.3+ MB\n"
     ]
    }
   ],
   "source": [
    "df.info()"
   ]
  },
  {
   "cell_type": "code",
   "execution_count": 209,
   "metadata": {},
   "outputs": [
    {
     "data": {
      "text/html": [
       "<div>\n",
       "<style scoped>\n",
       "    .dataframe tbody tr th:only-of-type {\n",
       "        vertical-align: middle;\n",
       "    }\n",
       "\n",
       "    .dataframe tbody tr th {\n",
       "        vertical-align: top;\n",
       "    }\n",
       "\n",
       "    .dataframe thead th {\n",
       "        text-align: right;\n",
       "    }\n",
       "</style>\n",
       "<table border=\"1\" class=\"dataframe\">\n",
       "  <thead>\n",
       "    <tr style=\"text-align: right;\">\n",
       "      <th></th>\n",
       "      <th>user_id</th>\n",
       "      <th>calendar_type</th>\n",
       "      <th>#_of_schd_events</th>\n",
       "      <th>#_events_1st_week</th>\n",
       "    </tr>\n",
       "  </thead>\n",
       "  <tbody>\n",
       "    <tr>\n",
       "      <th>81451</th>\n",
       "      <td>4257592</td>\n",
       "      <td>outlook</td>\n",
       "      <td>592.0</td>\n",
       "      <td>81.0</td>\n",
       "    </tr>\n",
       "    <tr>\n",
       "      <th>82063</th>\n",
       "      <td>4405664</td>\n",
       "      <td>google</td>\n",
       "      <td>772.0</td>\n",
       "      <td>37.0</td>\n",
       "    </tr>\n",
       "    <tr>\n",
       "      <th>85701</th>\n",
       "      <td>5212162</td>\n",
       "      <td>google</td>\n",
       "      <td>671.0</td>\n",
       "      <td>45.0</td>\n",
       "    </tr>\n",
       "    <tr>\n",
       "      <th>104586</th>\n",
       "      <td>5001568</td>\n",
       "      <td>google</td>\n",
       "      <td>549.0</td>\n",
       "      <td>33.0</td>\n",
       "    </tr>\n",
       "    <tr>\n",
       "      <th>104892</th>\n",
       "      <td>4645160</td>\n",
       "      <td>outlook</td>\n",
       "      <td>592.0</td>\n",
       "      <td>NaN</td>\n",
       "    </tr>\n",
       "    <tr>\n",
       "      <th>107419</th>\n",
       "      <td>4257478</td>\n",
       "      <td>outlook</td>\n",
       "      <td>935.0</td>\n",
       "      <td>10.0</td>\n",
       "    </tr>\n",
       "  </tbody>\n",
       "</table>\n",
       "</div>"
      ],
      "text/plain": [
       "        user_id calendar_type  #_of_schd_events  #_events_1st_week\n",
       "81451   4257592       outlook             592.0               81.0\n",
       "82063   4405664        google             772.0               37.0\n",
       "85701   5212162        google             671.0               45.0\n",
       "104586  5001568        google             549.0               33.0\n",
       "104892  4645160       outlook             592.0                NaN\n",
       "107419  4257478       outlook             935.0               10.0"
      ]
     },
     "execution_count": 209,
     "metadata": {},
     "output_type": "execute_result"
    }
   ],
   "source": [
    "#curious to see how many users scheduled over 500 events\n",
    "df[df['#_of_schd_events'] >= 500]"
   ]
  },
  {
   "cell_type": "markdown",
   "metadata": {},
   "source": [
    "**Note:** It seems like the top 6 most used calendar type based on number of scheduled events, are split 50/50 between google and outlook. "
   ]
  },
  {
   "cell_type": "code",
   "execution_count": 205,
   "metadata": {},
   "outputs": [
    {
     "data": {
      "text/html": [
       "<div>\n",
       "<style scoped>\n",
       "    .dataframe tbody tr th:only-of-type {\n",
       "        vertical-align: middle;\n",
       "    }\n",
       "\n",
       "    .dataframe tbody tr th {\n",
       "        vertical-align: top;\n",
       "    }\n",
       "\n",
       "    .dataframe thead th {\n",
       "        text-align: right;\n",
       "    }\n",
       "</style>\n",
       "<table border=\"1\" class=\"dataframe\">\n",
       "  <thead>\n",
       "    <tr style=\"text-align: right;\">\n",
       "      <th></th>\n",
       "      <th>user_id</th>\n",
       "      <th>calendar_type</th>\n",
       "      <th>#_of_schd_events</th>\n",
       "      <th>#_events_1st_week</th>\n",
       "    </tr>\n",
       "  </thead>\n",
       "  <tbody>\n",
       "    <tr>\n",
       "      <th>11236</th>\n",
       "      <td>4526694</td>\n",
       "      <td>google</td>\n",
       "      <td>205.0</td>\n",
       "      <td>173.0</td>\n",
       "    </tr>\n",
       "    <tr>\n",
       "      <th>21505</th>\n",
       "      <td>4827316</td>\n",
       "      <td>None</td>\n",
       "      <td>114.0</td>\n",
       "      <td>101.0</td>\n",
       "    </tr>\n",
       "    <tr>\n",
       "      <th>41726</th>\n",
       "      <td>4348790</td>\n",
       "      <td>google</td>\n",
       "      <td>189.0</td>\n",
       "      <td>119.0</td>\n",
       "    </tr>\n",
       "    <tr>\n",
       "      <th>55446</th>\n",
       "      <td>4405328</td>\n",
       "      <td>outlook</td>\n",
       "      <td>272.0</td>\n",
       "      <td>112.0</td>\n",
       "    </tr>\n",
       "    <tr>\n",
       "      <th>71555</th>\n",
       "      <td>4943424</td>\n",
       "      <td>google</td>\n",
       "      <td>169.0</td>\n",
       "      <td>118.0</td>\n",
       "    </tr>\n",
       "    <tr>\n",
       "      <th>107454</th>\n",
       "      <td>5890424</td>\n",
       "      <td>google</td>\n",
       "      <td>148.0</td>\n",
       "      <td>105.0</td>\n",
       "    </tr>\n",
       "  </tbody>\n",
       "</table>\n",
       "</div>"
      ],
      "text/plain": [
       "        user_id calendar_type  #_of_schd_events  #_events_1st_week\n",
       "11236   4526694        google             205.0              173.0\n",
       "21505   4827316          None             114.0              101.0\n",
       "41726   4348790        google             189.0              119.0\n",
       "55446   4405328       outlook             272.0              112.0\n",
       "71555   4943424        google             169.0              118.0\n",
       "107454  5890424        google             148.0              105.0"
      ]
     },
     "execution_count": 205,
     "metadata": {},
     "output_type": "execute_result"
    }
   ],
   "source": [
    "#curious to see how many users scheduled over 100 events within the first week of signing up \n",
    "df[df['#_events_1st_week'] >= 100]"
   ]
  },
  {
   "cell_type": "markdown",
   "metadata": {},
   "source": [
    "**Note:** 4/6 of the first 100 events scheduled within the first week of signing up belongs to users with google calendar."
   ]
  },
  {
   "cell_type": "code",
   "execution_count": 234,
   "metadata": {},
   "outputs": [
    {
     "data": {
      "text/plain": [
       "calendar_type\n",
       "None                476\n",
       "google             4786\n",
       "icloud              108\n",
       "outlook             921\n",
       "outlook_desktop     152\n",
       "Name: #_events_1st_week, dtype: int64"
      ]
     },
     "execution_count": 234,
     "metadata": {},
     "output_type": "execute_result"
    }
   ],
   "source": [
    "first_week_groupby_cal = df.groupby(['calendar_type'])['#_events_1st_week'].count()\n",
    "first_week_groupby_cal"
   ]
  },
  {
   "cell_type": "code",
   "execution_count": 210,
   "metadata": {},
   "outputs": [],
   "source": [
    "g = pd.DataFrame(df.groupby(['calendar_type'])['#_of_schd_events'].count())\n",
    "g.rename(columns={'#_of_schd_events':'user_id_count'}, inplace=True)"
   ]
  },
  {
   "cell_type": "code",
   "execution_count": 213,
   "metadata": {},
   "outputs": [],
   "source": [
    "gg = pd.DataFrame(df.groupby(['calendar_type'])['#_of_schd_events'].sum())\n",
    "gg.rename(columns={'#_of_schd_events':'scheduled_event'}, inplace=True)"
   ]
  },
  {
   "cell_type": "code",
   "execution_count": 216,
   "metadata": {},
   "outputs": [],
   "source": [
    "intensity = pd.merge(g, gg, on='calendar_type', left_index=True)\n",
    "intensity['avg_scheduled'] = round((intensity.user_id_count / intensity.scheduled_event)*100, 2)"
   ]
  },
  {
   "cell_type": "code",
   "execution_count": 222,
   "metadata": {},
   "outputs": [
    {
     "data": {
      "text/html": [
       "<div>\n",
       "<style scoped>\n",
       "    .dataframe tbody tr th:only-of-type {\n",
       "        vertical-align: middle;\n",
       "    }\n",
       "\n",
       "    .dataframe tbody tr th {\n",
       "        vertical-align: top;\n",
       "    }\n",
       "\n",
       "    .dataframe thead th {\n",
       "        text-align: right;\n",
       "    }\n",
       "</style>\n",
       "<table border=\"1\" class=\"dataframe\">\n",
       "  <thead>\n",
       "    <tr style=\"text-align: right;\">\n",
       "      <th></th>\n",
       "      <th>user_id_count</th>\n",
       "      <th>scheduled_event</th>\n",
       "      <th>avg_scheduled</th>\n",
       "    </tr>\n",
       "    <tr>\n",
       "      <th>calendar_type</th>\n",
       "      <th></th>\n",
       "      <th></th>\n",
       "      <th></th>\n",
       "    </tr>\n",
       "  </thead>\n",
       "  <tbody>\n",
       "    <tr>\n",
       "      <th>None</th>\n",
       "      <td>560</td>\n",
       "      <td>7183.0</td>\n",
       "      <td>7.80</td>\n",
       "    </tr>\n",
       "    <tr>\n",
       "      <th>google</th>\n",
       "      <td>5922</td>\n",
       "      <td>85562.0</td>\n",
       "      <td>6.92</td>\n",
       "    </tr>\n",
       "    <tr>\n",
       "      <th>icloud</th>\n",
       "      <td>139</td>\n",
       "      <td>2414.0</td>\n",
       "      <td>5.76</td>\n",
       "    </tr>\n",
       "    <tr>\n",
       "      <th>outlook</th>\n",
       "      <td>1094</td>\n",
       "      <td>17404.0</td>\n",
       "      <td>6.29</td>\n",
       "    </tr>\n",
       "    <tr>\n",
       "      <th>outlook_desktop</th>\n",
       "      <td>181</td>\n",
       "      <td>3283.0</td>\n",
       "      <td>5.51</td>\n",
       "    </tr>\n",
       "  </tbody>\n",
       "</table>\n",
       "</div>"
      ],
      "text/plain": [
       "                 user_id_count  scheduled_event  avg_scheduled\n",
       "calendar_type                                                 \n",
       "None                       560           7183.0           7.80\n",
       "google                    5922          85562.0           6.92\n",
       "icloud                     139           2414.0           5.76\n",
       "outlook                   1094          17404.0           6.29\n",
       "outlook_desktop            181           3283.0           5.51"
      ]
     },
     "execution_count": 222,
     "metadata": {},
     "output_type": "execute_result"
    }
   ],
   "source": [
    "intensity"
   ]
  },
  {
   "cell_type": "markdown",
   "metadata": {},
   "source": [
    "**Note:** It seems like there are only 7,896 out of 107,983 registered users that have scheduled an event as of 2019. "
   ]
  },
  {
   "cell_type": "code",
   "execution_count": 249,
   "metadata": {},
   "outputs": [],
   "source": [
    "data = pd.merge(intensity, total_cal_type, on='calendar_type', left_index=True)"
   ]
  },
  {
   "cell_type": "code",
   "execution_count": 262,
   "metadata": {},
   "outputs": [],
   "source": [
    "data.rename(columns={'user_id_count': 'active_user', \n",
    "                     'user_id':'total_user_id_count'}, inplace=True)\n",
    "data['%_active_user'] = round((data.active_user / data.total_user_id_count)*100,2)\n",
    "data['total_%_active_user'] = round((data.active_user / data.active_user.sum())*100,2)\n",
    "data['total_%_user'] = round((data.active_user / data.total_user_id_count.sum())*100,2)"
   ]
  },
  {
   "cell_type": "code",
   "execution_count": 264,
   "metadata": {},
   "outputs": [
    {
     "data": {
      "text/html": [
       "<div>\n",
       "<style scoped>\n",
       "    .dataframe tbody tr th:only-of-type {\n",
       "        vertical-align: middle;\n",
       "    }\n",
       "\n",
       "    .dataframe tbody tr th {\n",
       "        vertical-align: top;\n",
       "    }\n",
       "\n",
       "    .dataframe thead th {\n",
       "        text-align: right;\n",
       "    }\n",
       "</style>\n",
       "<table border=\"1\" class=\"dataframe\">\n",
       "  <thead>\n",
       "    <tr style=\"text-align: right;\">\n",
       "      <th></th>\n",
       "      <th>active_user</th>\n",
       "      <th>scheduled_event</th>\n",
       "      <th>avg_scheduled</th>\n",
       "      <th>total_user_id_count</th>\n",
       "      <th>%_breakdown</th>\n",
       "      <th>%_active_user</th>\n",
       "      <th>total_%_active_user</th>\n",
       "      <th>total_%_user</th>\n",
       "    </tr>\n",
       "    <tr>\n",
       "      <th>calendar_type</th>\n",
       "      <th></th>\n",
       "      <th></th>\n",
       "      <th></th>\n",
       "      <th></th>\n",
       "      <th></th>\n",
       "      <th></th>\n",
       "      <th></th>\n",
       "      <th></th>\n",
       "    </tr>\n",
       "  </thead>\n",
       "  <tbody>\n",
       "    <tr>\n",
       "      <th>None</th>\n",
       "      <td>560</td>\n",
       "      <td>7183.0</td>\n",
       "      <td>7.80</td>\n",
       "      <td>42519</td>\n",
       "      <td>39.38</td>\n",
       "      <td>1.32</td>\n",
       "      <td>7.09</td>\n",
       "      <td>0.52</td>\n",
       "    </tr>\n",
       "    <tr>\n",
       "      <th>google</th>\n",
       "      <td>5922</td>\n",
       "      <td>85562.0</td>\n",
       "      <td>6.92</td>\n",
       "      <td>51457</td>\n",
       "      <td>47.65</td>\n",
       "      <td>11.51</td>\n",
       "      <td>75.00</td>\n",
       "      <td>5.48</td>\n",
       "    </tr>\n",
       "    <tr>\n",
       "      <th>icloud</th>\n",
       "      <td>139</td>\n",
       "      <td>2414.0</td>\n",
       "      <td>5.76</td>\n",
       "      <td>615</td>\n",
       "      <td>0.57</td>\n",
       "      <td>22.60</td>\n",
       "      <td>1.76</td>\n",
       "      <td>0.13</td>\n",
       "    </tr>\n",
       "    <tr>\n",
       "      <th>outlook</th>\n",
       "      <td>1094</td>\n",
       "      <td>17404.0</td>\n",
       "      <td>6.29</td>\n",
       "      <td>11239</td>\n",
       "      <td>10.41</td>\n",
       "      <td>9.73</td>\n",
       "      <td>13.86</td>\n",
       "      <td>1.01</td>\n",
       "    </tr>\n",
       "    <tr>\n",
       "      <th>outlook_desktop</th>\n",
       "      <td>181</td>\n",
       "      <td>3283.0</td>\n",
       "      <td>5.51</td>\n",
       "      <td>2153</td>\n",
       "      <td>1.99</td>\n",
       "      <td>8.41</td>\n",
       "      <td>2.29</td>\n",
       "      <td>0.17</td>\n",
       "    </tr>\n",
       "  </tbody>\n",
       "</table>\n",
       "</div>"
      ],
      "text/plain": [
       "                 active_user  scheduled_event  avg_scheduled  \\\n",
       "calendar_type                                                  \n",
       "None                     560           7183.0           7.80   \n",
       "google                  5922          85562.0           6.92   \n",
       "icloud                   139           2414.0           5.76   \n",
       "outlook                 1094          17404.0           6.29   \n",
       "outlook_desktop          181           3283.0           5.51   \n",
       "\n",
       "                 total_user_id_count  %_breakdown  %_active_user  \\\n",
       "calendar_type                                                      \n",
       "None                           42519        39.38           1.32   \n",
       "google                         51457        47.65          11.51   \n",
       "icloud                           615         0.57          22.60   \n",
       "outlook                        11239        10.41           9.73   \n",
       "outlook_desktop                 2153         1.99           8.41   \n",
       "\n",
       "                 total_%_active_user  total_%_user  \n",
       "calendar_type                                       \n",
       "None                            7.09          0.52  \n",
       "google                         75.00          5.48  \n",
       "icloud                          1.76          0.13  \n",
       "outlook                        13.86          1.01  \n",
       "outlook_desktop                 2.29          0.17  "
      ]
     },
     "execution_count": 264,
     "metadata": {},
     "output_type": "execute_result"
    }
   ],
   "source": [
    "data.set_index('calendar_type',inplace=True)\n",
    "data"
   ]
  },
  {
   "cell_type": "code",
   "execution_count": 247,
   "metadata": {},
   "outputs": [
    {
     "data": {
      "image/png": "[encoded data removed]",
      "text/plain": [
       "<Figure size 864x576 with 1 Axes>"
      ]
     },
     "metadata": {
      "needs_background": "light"
     },
     "output_type": "display_data"
    }
   ],
   "source": [
    "x = intensity.index\n",
    "\n",
    "plt.figure(figsize=(12,8))\n",
    "plt.bar(x, intensity.scheduled_event)\n",
    "plt.title('Number of Events Scheduled per Calendar Type' , fontsize=22)\n",
    "plt.xticks(fontsize=16)\n",
    "plt.yticks(fontsize=16)\n",
    "plt.show()"
   ]
  },
  {
   "cell_type": "code",
   "execution_count": 225,
   "metadata": {},
   "outputs": [
    {
     "data": {
      "image/png": "[encoded data removed]",
      "text/plain": [
       "<Figure size 864x576 with 1 Axes>"
      ]
     },
     "metadata": {
      "needs_background": "light"
     },
     "output_type": "display_data"
    }
   ],
   "source": [
    "plt.figure(figsize=(12,8))\n",
    "plt.bar(x, intensity.user_id_count)\n",
    "plt.title('Number of Registered Users Per Calendar Type' , fontsize=22)\n",
    "plt.xticks(fontsize=16)\n",
    "plt.yticks(fontsize=16)\n",
    "plt.show()"
   ]
  },
  {
   "cell_type": "code",
   "execution_count": 226,
   "metadata": {},
   "outputs": [
    {
     "data": {
      "image/png": "[encoded data removed]",
      "text/plain": [
       "<Figure size 864x576 with 1 Axes>"
      ]
     },
     "metadata": {
      "needs_background": "light"
     },
     "output_type": "display_data"
    }
   ],
   "source": [
    "plt.figure(figsize=(12,8))\n",
    "plt.bar(x, intensity.avg_scheduled)\n",
    "plt.title('Avg. Event Scheduled Per User Per Calendar Type' , fontsize=22)\n",
    "plt.xticks(fontsize=16)\n",
    "plt.yticks(fontsize=16)\n",
    "plt.show()"
   ]
  },
  {
   "cell_type": "code",
   "execution_count": 266,
   "metadata": {},
   "outputs": [
    {
     "data": {
      "image/png": "[encoded data removed]",
      "text/plain": [
       "<Figure size 864x576 with 1 Axes>"
      ]
     },
     "metadata": {
      "needs_background": "light"
     },
     "output_type": "display_data"
    }
   ],
   "source": [
    "\n",
    "plt.figure(figsize=(12,8))\n",
    "plt.bar(x, first_week_groupby_cal, color='green')\n",
    "plt.title('Number of Users that Scheduled an Event within the First Week of Signing up' , fontsize=18)\n",
    "plt.xticks(fontsize=16)\n",
    "plt.yticks(fontsize=16)\n",
    "plt.show()"
   ]
  },
  {
   "cell_type": "code",
   "execution_count": 265,
   "metadata": {},
   "outputs": [
    {
     "data": {
      "text/html": [
       "<div>\n",
       "<style scoped>\n",
       "    .dataframe tbody tr th:only-of-type {\n",
       "        vertical-align: middle;\n",
       "    }\n",
       "\n",
       "    .dataframe tbody tr th {\n",
       "        vertical-align: top;\n",
       "    }\n",
       "\n",
       "    .dataframe thead th {\n",
       "        text-align: right;\n",
       "    }\n",
       "</style>\n",
       "<table border=\"1\" class=\"dataframe\">\n",
       "  <thead>\n",
       "    <tr style=\"text-align: right;\">\n",
       "      <th></th>\n",
       "      <th>active_user</th>\n",
       "      <th>scheduled_event</th>\n",
       "      <th>avg_scheduled</th>\n",
       "      <th>total_user_id_count</th>\n",
       "      <th>%_breakdown</th>\n",
       "      <th>%_active_user</th>\n",
       "      <th>total_%_active_user</th>\n",
       "      <th>total_%_user</th>\n",
       "    </tr>\n",
       "    <tr>\n",
       "      <th>calendar_type</th>\n",
       "      <th></th>\n",
       "      <th></th>\n",
       "      <th></th>\n",
       "      <th></th>\n",
       "      <th></th>\n",
       "      <th></th>\n",
       "      <th></th>\n",
       "      <th></th>\n",
       "    </tr>\n",
       "  </thead>\n",
       "  <tbody>\n",
       "    <tr>\n",
       "      <th>None</th>\n",
       "      <td>560</td>\n",
       "      <td>7183.0</td>\n",
       "      <td>7.80</td>\n",
       "      <td>42519</td>\n",
       "      <td>39.38</td>\n",
       "      <td>1.32</td>\n",
       "      <td>7.09</td>\n",
       "      <td>0.52</td>\n",
       "    </tr>\n",
       "    <tr>\n",
       "      <th>google</th>\n",
       "      <td>5922</td>\n",
       "      <td>85562.0</td>\n",
       "      <td>6.92</td>\n",
       "      <td>51457</td>\n",
       "      <td>47.65</td>\n",
       "      <td>11.51</td>\n",
       "      <td>75.00</td>\n",
       "      <td>5.48</td>\n",
       "    </tr>\n",
       "    <tr>\n",
       "      <th>icloud</th>\n",
       "      <td>139</td>\n",
       "      <td>2414.0</td>\n",
       "      <td>5.76</td>\n",
       "      <td>615</td>\n",
       "      <td>0.57</td>\n",
       "      <td>22.60</td>\n",
       "      <td>1.76</td>\n",
       "      <td>0.13</td>\n",
       "    </tr>\n",
       "    <tr>\n",
       "      <th>outlook</th>\n",
       "      <td>1094</td>\n",
       "      <td>17404.0</td>\n",
       "      <td>6.29</td>\n",
       "      <td>11239</td>\n",
       "      <td>10.41</td>\n",
       "      <td>9.73</td>\n",
       "      <td>13.86</td>\n",
       "      <td>1.01</td>\n",
       "    </tr>\n",
       "    <tr>\n",
       "      <th>outlook_desktop</th>\n",
       "      <td>181</td>\n",
       "      <td>3283.0</td>\n",
       "      <td>5.51</td>\n",
       "      <td>2153</td>\n",
       "      <td>1.99</td>\n",
       "      <td>8.41</td>\n",
       "      <td>2.29</td>\n",
       "      <td>0.17</td>\n",
       "    </tr>\n",
       "  </tbody>\n",
       "</table>\n",
       "</div>"
      ],
      "text/plain": [
       "                 active_user  scheduled_event  avg_scheduled  \\\n",
       "calendar_type                                                  \n",
       "None                     560           7183.0           7.80   \n",
       "google                  5922          85562.0           6.92   \n",
       "icloud                   139           2414.0           5.76   \n",
       "outlook                 1094          17404.0           6.29   \n",
       "outlook_desktop          181           3283.0           5.51   \n",
       "\n",
       "                 total_user_id_count  %_breakdown  %_active_user  \\\n",
       "calendar_type                                                      \n",
       "None                           42519        39.38           1.32   \n",
       "google                         51457        47.65          11.51   \n",
       "icloud                           615         0.57          22.60   \n",
       "outlook                        11239        10.41           9.73   \n",
       "outlook_desktop                 2153         1.99           8.41   \n",
       "\n",
       "                 total_%_active_user  total_%_user  \n",
       "calendar_type                                       \n",
       "None                            7.09          0.52  \n",
       "google                         75.00          5.48  \n",
       "icloud                          1.76          0.13  \n",
       "outlook                        13.86          1.01  \n",
       "outlook_desktop                 2.29          0.17  "
      ]
     },
     "execution_count": 265,
     "metadata": {},
     "output_type": "execute_result"
    }
   ],
   "source": [
    "data"
   ]
  },
  {
   "cell_type": "markdown",
   "metadata": {},
   "source": [
    "**We quantified intensity by:**\n",
    "1. number of users \n",
    "2. number of events scheduled \n",
    "3. number of events scheduled within the first week of signing up \n",
    "4. average events scheduled\n",
    "\n",
    "**Observations**: \n",
    "1. Calendar type = `google`, has the most:\n",
    "    - registered users \n",
    "    - events scheduled\n",
    "    - users that scheduled an event within the first week of signing up\n",
    "    - highest percentage of total active users\n",
    "2. Calendar type = `None` i.e. users without a calendar, has the highest average event scheduled per user. \n",
    "\n",
    "Based on our findings above, we concluded calendar type google uses Calendly with the most intensity.\n",
    "\n",
    "**Recomendations:** \n",
    "1. Service accounts/users that uses google calendar to increase conversion rate from free users to paid users: \n",
    "    - provide excellent customer service - through user friendly people, process, products. \n",
    "    - provide add-ons (i.e. integration), that magnify Calendly's ability to execute better than competitors. \n",
    "2. Increase useability for Outlook calendar in order to increase amount of users.\n",
    "3. Recommend users w/o calendars to use either google or outlook calendar. \n",
    "    "
   ]
  },
  {
   "cell_type": "markdown",
   "metadata": {},
   "source": [
    "## 2. Given your time working with the data set, \n",
    "1) what is something that you would like to spend more time digging into?\n",
    "\n",
    "A: Provided the data, we'd be curious to see how many of the active users are: \n",
    "    - Basic, Premium, and Pro\n",
    "    - Utilize the features provided\n",
    "    - Which features are used the most\n",
    "\n",
    "2) what do you expect to find upon further exploration? \n",
    "\n",
    "A: Based on the data provided, we'd expect calendar type google to have the most quantity of paid accounts. \n",
    "\n",
    "Please provide: \n",
    "- Written answer to the two questions above \n",
    "- Any data/visualizations highlighting your curiosity"
   ]
  }
 ],
 "metadata": {
  "kernelspec": {
   "display_name": "Python 3",
   "language": "python",
   "name": "python3"
  },
  "language_info": {
   "codemirror_mode": {
    "name": "ipython",
    "version": 3
   },
   "file_extension": ".py",
   "mimetype": "text/x-python",
   "name": "python",
   "nbconvert_exporter": "python",
   "pygments_lexer": "ipython3",
   "version": "3.6.6"
  },
  "toc": {
   "base_numbering": 1,
   "nav_menu": {},
   "number_sections": true,
   "sideBar": true,
   "skip_h1_title": false,
   "title_cell": "Table of Contents",
   "title_sidebar": "Contents",
   "toc_cell": false,
   "toc_position": {},
   "toc_section_display": true,
   "toc_window_display": false
  },
  "varInspector": {
   "cols": {
    "lenName": 16,
    "lenType": 16,
    "lenVar": 40
   },
   "kernels_config": {
    "python": {
     "delete_cmd_postfix": "",
     "delete_cmd_prefix": "del ",
     "library": "var_list.py",
     "varRefreshCmd": "print(var_dic_list())"
    },
    "r": {
     "delete_cmd_postfix": ") ",
     "delete_cmd_prefix": "rm(",
     "library": "var_list.r",
     "varRefreshCmd": "cat(var_dic_list()) "
    }
   },
   "types_to_exclude": [
    "module",
    "function",
    "builtin_function_or_method",
    "instance",
    "_Feature"
   ],
   "window_display": false
  }
 },
 "nbformat": 4,
 "nbformat_minor": 2
}
